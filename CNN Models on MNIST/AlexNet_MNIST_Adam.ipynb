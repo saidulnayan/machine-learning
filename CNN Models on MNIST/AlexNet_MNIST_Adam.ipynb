{
 "cells": [
  {
   "cell_type": "code",
   "execution_count": 1,
   "metadata": {
    "id": "tgaPgF5lcJwb"
   },
   "outputs": [],
   "source": [
    "import numpy as np\n",
    "import pandas as pd\n",
    "import tensorflow as tf\n",
    "import matplotlib.pyplot as plt\n",
    "%matplotlib inline\n",
    "from keras.datasets import mnist\n",
    "from sklearn.model_selection import train_test_split\n",
    "from keras.models import Sequential\n",
    "from keras.layers import Dense, Dropout, Activation, Flatten\n",
    "from tensorflow.keras.optimizers import Adam\n",
    "from keras.layers import BatchNormalization\n",
    "from keras.utils import np_utils\n",
    "from keras.layers import Conv2D, MaxPooling2D, ZeroPadding2D,Reshape, GlobalAveragePooling2D\n",
    "# from keras.layers.advanced_activations import LeakyReLU \n",
    "from keras.preprocessing.image import ImageDataGenerator\n",
    "from sklearn.metrics import confusion_matrix,classification_report\n",
    "from sklearn.metrics import precision_score, recall_score, f1_score, accuracy_score\n",
    "np.random.seed(25)"
   ]
  },
  {
   "cell_type": "code",
   "execution_count": 2,
   "metadata": {
    "colab": {
     "base_uri": "https://localhost:8080/"
    },
    "id": "1RLAG1YpcPNh",
    "outputId": "fdd35250-8f92-464e-ee13-8a1cf8e886a5"
   },
   "outputs": [
    {
     "name": "stdout",
     "output_type": "stream",
     "text": [
      "X_train original shape (60000, 28, 28)\n",
      "y_train original shape (60000,)\n",
      "X_test original shape (10000, 28, 28)\n",
      "y_test original shape (10000,)\n"
     ]
    }
   ],
   "source": [
    "(X_train, y_train), (X_test, y_test) = mnist.load_data()\n",
    "print(\"X_train original shape\", X_train.shape)\n",
    "print(\"y_train original shape\", y_train.shape)\n",
    "print(\"X_test original shape\", X_test.shape)\n",
    "print(\"y_test original shape\", y_test.shape)"
   ]
  },
  {
   "cell_type": "code",
   "execution_count": 3,
   "metadata": {
    "id": "us5VqdQ235XX"
   },
   "outputs": [],
   "source": [
    "X_train = X_train.reshape(X_train.shape[0], 28, 28,1)\n",
    "X_test = X_test.reshape(X_test.shape[0], 28, 28,1)"
   ]
  },
  {
   "cell_type": "code",
   "execution_count": 4,
   "metadata": {
    "colab": {
     "base_uri": "https://localhost:8080/"
    },
    "id": "D4hO1fua38Xg",
    "outputId": "733c8c99-c085-4b76-9252-f26cae48e4f5"
   },
   "outputs": [
    {
     "name": "stdout",
     "output_type": "stream",
     "text": [
      "[0 1 2 3 4 5 6 7 8 9]\n"
     ]
    }
   ],
   "source": [
    "class_names = np.unique(y_train)\n",
    "print(class_names)"
   ]
  },
  {
   "cell_type": "code",
   "execution_count": 5,
   "metadata": {
    "id": "qt-hE4xJ3-0O"
   },
   "outputs": [],
   "source": [
    "y_train=np_utils.to_categorical(y_train)\n",
    "y_test=np_utils.to_categorical(y_test)"
   ]
  },
  {
   "cell_type": "code",
   "execution_count": 6,
   "metadata": {
    "id": "rSFMG9L_3_e_"
   },
   "outputs": [],
   "source": [
    "X_train = X_train.astype('float32')\n",
    "X_test = X_test.astype('float32')\n",
    "\n",
    "X_train/=255\n",
    "X_test/=255"
   ]
  },
  {
   "cell_type": "code",
   "execution_count": 7,
   "metadata": {
    "colab": {
     "base_uri": "https://localhost:8080/"
    },
    "id": "XCP9HmKdyuR9",
    "outputId": "7b894a93-2d11-4248-a199-7d69c028f565"
   },
   "outputs": [
    {
     "name": "stdout",
     "output_type": "stream",
     "text": [
      "(60000, 28, 28, 1)\n",
      "(10000, 28, 28, 1)\n",
      "(60000, 10)\n",
      "(10000, 10)\n"
     ]
    }
   ],
   "source": [
    "print(X_train.shape)\n",
    "print(X_test.shape)\n",
    "print(y_train.shape)\n",
    "print(y_test.shape)"
   ]
  },
  {
   "cell_type": "code",
   "execution_count": 8,
   "metadata": {
    "id": "hb3CpNAdcYBg"
   },
   "outputs": [],
   "source": [
    "# Create a sequential model\n",
    "model = Sequential()\n",
    "\n",
    "# 1st Convolutional Layer\n",
    "model.add(Conv2D(filters=96, input_shape=(28,28,1),kernel_size=(11,11), strides=(4,4), padding='same'))\n",
    "model.add(BatchNormalization())\n",
    "model.add(Activation('relu'))\n",
    "# Pooling \n",
    "model.add(MaxPooling2D(pool_size=(2,2), strides=(2,2), padding='same'))\n",
    "\n",
    "\n",
    "\n",
    "# 2nd Convolutional Layer\n",
    "model.add(Conv2D(filters=256, kernel_size=(5,5), strides=(1,1), padding='same'))\n",
    "# Batch Normalisation\n",
    "model.add(BatchNormalization())\n",
    "model.add(Activation('relu'))\n",
    "# Pooling\n",
    "model.add(MaxPooling2D(pool_size=(3,3), strides=(2,2), padding='same'))\n",
    "\n",
    "\n",
    "# 3rd Convolutional Layer\n",
    "model.add(Conv2D(filters=384, kernel_size=(3,3), strides=(1,1), padding='same'))\n",
    "model.add(Activation('relu'))\n",
    "\n",
    "\n",
    "# 4th Convolutional Layer\n",
    "model.add(Conv2D(filters=384, kernel_size=(3,3), strides=(1,1), padding='same'))\n",
    "model.add(Activation('relu'))\n",
    "\n",
    "\n",
    "# 5th Convolutional Layer\n",
    "model.add(Conv2D(filters=256, kernel_size=(3,3), strides=(1,1), padding='same'))\n",
    "model.add(Activation('relu'))\n",
    "# Pooling\n",
    "model.add(MaxPooling2D(pool_size=(3,3), strides=(2,2), padding='same'))\n",
    "\n",
    "\n",
    "# Passing it to a dense layer\n",
    "model.add(Flatten())\n",
    "\n",
    "\n",
    "# 1st Dense Layer\n",
    "model.add(Dense(4096))\n",
    "model.add(Activation('relu'))\n",
    "\n",
    "\n",
    "# Add Dropout to prevent overfitting\n",
    "model.add(Dropout(0.5))\n",
    "\n",
    "\n",
    "# 2nd Dense Layer\n",
    "model.add(Dense(4096))\n",
    "model.add(Activation('relu'))\n",
    "\n",
    "# Add Dropout\n",
    "model.add(Dropout(0.5))\n",
    "\n",
    "#  output Layer \n",
    "model.add(Dense(10))\n",
    "\n",
    "model.add(Activation('softmax'))"
   ]
  },
  {
   "cell_type": "code",
   "execution_count": 9,
   "metadata": {
    "colab": {
     "base_uri": "https://localhost:8080/"
    },
    "id": "K9e-kItlcbvY",
    "outputId": "aa3890f6-bf22-466a-882c-56a6096fc711"
   },
   "outputs": [
    {
     "name": "stdout",
     "output_type": "stream",
     "text": [
      "Model: \"sequential\"\n",
      "_________________________________________________________________\n",
      "Layer (type)                 Output Shape              Param #   \n",
      "=================================================================\n",
      "conv2d (Conv2D)              (None, 7, 7, 96)          11712     \n",
      "_________________________________________________________________\n",
      "batch_normalization (BatchNo (None, 7, 7, 96)          384       \n",
      "_________________________________________________________________\n",
      "activation (Activation)      (None, 7, 7, 96)          0         \n",
      "_________________________________________________________________\n",
      "max_pooling2d (MaxPooling2D) (None, 4, 4, 96)          0         \n",
      "_________________________________________________________________\n",
      "conv2d_1 (Conv2D)            (None, 4, 4, 256)         614656    \n",
      "_________________________________________________________________\n",
      "batch_normalization_1 (Batch (None, 4, 4, 256)         1024      \n",
      "_________________________________________________________________\n",
      "activation_1 (Activation)    (None, 4, 4, 256)         0         \n",
      "_________________________________________________________________\n",
      "max_pooling2d_1 (MaxPooling2 (None, 2, 2, 256)         0         \n",
      "_________________________________________________________________\n",
      "conv2d_2 (Conv2D)            (None, 2, 2, 384)         885120    \n",
      "_________________________________________________________________\n",
      "activation_2 (Activation)    (None, 2, 2, 384)         0         \n",
      "_________________________________________________________________\n",
      "conv2d_3 (Conv2D)            (None, 2, 2, 384)         1327488   \n",
      "_________________________________________________________________\n",
      "activation_3 (Activation)    (None, 2, 2, 384)         0         \n",
      "_________________________________________________________________\n",
      "conv2d_4 (Conv2D)            (None, 2, 2, 256)         884992    \n",
      "_________________________________________________________________\n",
      "activation_4 (Activation)    (None, 2, 2, 256)         0         \n",
      "_________________________________________________________________\n",
      "max_pooling2d_2 (MaxPooling2 (None, 1, 1, 256)         0         \n",
      "_________________________________________________________________\n",
      "flatten (Flatten)            (None, 256)               0         \n",
      "_________________________________________________________________\n",
      "dense (Dense)                (None, 4096)              1052672   \n",
      "_________________________________________________________________\n",
      "activation_5 (Activation)    (None, 4096)              0         \n",
      "_________________________________________________________________\n",
      "dropout (Dropout)            (None, 4096)              0         \n",
      "_________________________________________________________________\n",
      "dense_1 (Dense)              (None, 4096)              16781312  \n",
      "_________________________________________________________________\n",
      "activation_6 (Activation)    (None, 4096)              0         \n",
      "_________________________________________________________________\n",
      "dropout_1 (Dropout)          (None, 4096)              0         \n",
      "_________________________________________________________________\n",
      "dense_2 (Dense)              (None, 10)                40970     \n",
      "_________________________________________________________________\n",
      "activation_7 (Activation)    (None, 10)                0         \n",
      "=================================================================\n",
      "Total params: 21,600,330\n",
      "Trainable params: 21,599,626\n",
      "Non-trainable params: 704\n",
      "_________________________________________________________________\n"
     ]
    }
   ],
   "source": [
    "model.summary()\n"
   ]
  },
  {
   "cell_type": "code",
   "execution_count": 10,
   "metadata": {
    "id": "AsTF0-ricePA"
   },
   "outputs": [],
   "source": [
    "model.compile(optimizer='adam',\n",
    "              loss='categorical_crossentropy',\n",
    "              metrics=['accuracy'])\n"
   ]
  },
  {
   "cell_type": "code",
   "execution_count": null,
   "metadata": {
    "id": "YSRW0BoxcgRo"
   },
   "outputs": [],
   "source": [
    "gen = ImageDataGenerator(rotation_range=8, width_shift_range=0.08, shear_range=0.3,\n",
    "                         height_shift_range=0.08, zoom_range=0.08)\n",
    "\n",
    "test_gen = ImageDataGenerator()"
   ]
  },
  {
   "cell_type": "code",
   "execution_count": null,
   "metadata": {
    "id": "52fAEpqociFi"
   },
   "outputs": [],
   "source": [
    "train_generator = gen.flow(X_train, y_train, batch_size=64)\n",
    "test_generator = test_gen.flow(X_test, y_test, batch_size=64)"
   ]
  },
  {
   "cell_type": "code",
   "execution_count": 11,
   "metadata": {
    "colab": {
     "background_save": true,
     "base_uri": "https://localhost:8080/"
    },
    "id": "8H9w3aeuw49g",
    "outputId": "23026ff8-bc74-45e3-b148-c2e35972e1e1"
   },
   "outputs": [
    {
     "name": "stdout",
     "output_type": "stream",
     "text": [
      "Epoch 1/20\n",
      "469/469 [==============================] - 863s 2s/step - loss: 0.6385 - accuracy: 0.7628 - val_loss: 0.1696 - val_accuracy: 0.9480\n",
      "Epoch 2/20\n",
      "469/469 [==============================] - 876s 2s/step - loss: 0.1157 - accuracy: 0.9688 - val_loss: 0.1115 - val_accuracy: 0.9701\n",
      "Epoch 3/20\n",
      "469/469 [==============================] - 837s 2s/step - loss: 0.0813 - accuracy: 0.9780 - val_loss: 0.0979 - val_accuracy: 0.9717\n",
      "Epoch 4/20\n",
      "469/469 [==============================] - 1044s 2s/step - loss: 0.0690 - accuracy: 0.9823 - val_loss: 0.0879 - val_accuracy: 0.9753\n",
      "Epoch 5/20\n",
      "469/469 [==============================] - 797s 2s/step - loss: 0.0636 - accuracy: 0.9838 - val_loss: 0.0889 - val_accuracy: 0.9773\n",
      "Epoch 6/20\n",
      "469/469 [==============================] - 807s 2s/step - loss: 0.0545 - accuracy: 0.9858 - val_loss: 0.1071 - val_accuracy: 0.9715\n",
      "Epoch 7/20\n",
      "469/469 [==============================] - 895s 2s/step - loss: 0.0529 - accuracy: 0.9862 - val_loss: 0.0611 - val_accuracy: 0.9859\n",
      "Epoch 8/20\n",
      "469/469 [==============================] - 904s 2s/step - loss: 0.0511 - accuracy: 0.9877 - val_loss: 0.0768 - val_accuracy: 0.9823\n",
      "Epoch 9/20\n",
      "469/469 [==============================] - 833s 2s/step - loss: 0.0438 - accuracy: 0.9894 - val_loss: 0.0577 - val_accuracy: 0.9867\n",
      "Epoch 10/20\n",
      "469/469 [==============================] - 871s 2s/step - loss: 0.0393 - accuracy: 0.9902 - val_loss: 0.0707 - val_accuracy: 0.9863\n",
      "Epoch 11/20\n",
      "469/469 [==============================] - 943s 2s/step - loss: 0.0423 - accuracy: 0.9901 - val_loss: 0.0672 - val_accuracy: 0.9830\n",
      "Epoch 12/20\n",
      "469/469 [==============================] - 823s 2s/step - loss: 0.0300 - accuracy: 0.9927 - val_loss: 0.0788 - val_accuracy: 0.9814\n",
      "Epoch 13/20\n",
      "469/469 [==============================] - 1117s 2s/step - loss: 0.0383 - accuracy: 0.9910 - val_loss: 0.1732 - val_accuracy: 0.9699\n",
      "Epoch 14/20\n",
      "469/469 [==============================] - 1158s 2s/step - loss: 0.0245 - accuracy: 0.9938 - val_loss: 0.0517 - val_accuracy: 0.9881\n",
      "Epoch 15/20\n",
      "469/469 [==============================] - 939s 2s/step - loss: 0.0277 - accuracy: 0.9930 - val_loss: 0.0607 - val_accuracy: 0.9865\n",
      "Epoch 16/20\n",
      "469/469 [==============================] - 1543s 3s/step - loss: 0.0263 - accuracy: 0.9936 - val_loss: 0.0583 - val_accuracy: 0.9889\n",
      "Epoch 17/20\n",
      "469/469 [==============================] - 1029s 2s/step - loss: 0.0252 - accuracy: 0.9943 - val_loss: 0.0950 - val_accuracy: 0.9788\n",
      "Epoch 18/20\n",
      "469/469 [==============================] - 978s 2s/step - loss: 0.0246 - accuracy: 0.9942 - val_loss: 0.0733 - val_accuracy: 0.9880\n",
      "Epoch 19/20\n",
      "469/469 [==============================] - 912s 2s/step - loss: 0.0264 - accuracy: 0.9937 - val_loss: 0.1058 - val_accuracy: 0.9825\n",
      "Epoch 20/20\n",
      "469/469 [==============================] - 906s 2s/step - loss: 0.0309 - accuracy: 0.9927 - val_loss: 0.0670 - val_accuracy: 0.9867\n"
     ]
    },
    {
     "data": {
      "text/plain": [
       "<keras.callbacks.History at 0x1c89086e370>"
      ]
     },
     "execution_count": 11,
     "metadata": {},
     "output_type": "execute_result"
    }
   ],
   "source": [
    "hist = model.fit(X_train, y_train, batch_size=128, epochs=20, validation_data=(X_test, y_test))"
   ]
  },
  {
   "cell_type": "code",
   "execution_count": null,
   "metadata": {
    "colab": {
     "base_uri": "https://localhost:8080/"
    },
    "id": "8_1qkyyuckjH",
    "outputId": "ddf3ae2e-6d20-4192-a8ab-64083630cf4f"
   },
   "outputs": [
    {
     "name": "stderr",
     "output_type": "stream",
     "text": [
      "/usr/local/lib/python3.7/dist-packages/keras/engine/training.py:1972: UserWarning: `Model.fit_generator` is deprecated and will be removed in a future version. Please use `Model.fit`, which supports generators.\n",
      "  warnings.warn('`Model.fit_generator` is deprecated and '\n"
     ]
    },
    {
     "name": "stdout",
     "output_type": "stream",
     "text": [
      "Epoch 1/10\n",
      "937/937 [==============================] - 1048s 1s/step - loss: 0.5714 - accuracy: 0.7989 - val_loss: 0.1110 - val_accuracy: 0.9689\n",
      "Epoch 2/10\n",
      "937/937 [==============================] - 1033s 1s/step - loss: 0.1658 - accuracy: 0.9561 - val_loss: 0.0958 - val_accuracy: 0.9732\n",
      "Epoch 3/10\n",
      "937/937 [==============================] - 1011s 1s/step - loss: 0.1266 - accuracy: 0.9662 - val_loss: 0.0660 - val_accuracy: 0.9821\n",
      "Epoch 4/10\n",
      "937/937 [==============================] - 1013s 1s/step - loss: 0.1082 - accuracy: 0.9717 - val_loss: 0.0583 - val_accuracy: 0.9831\n",
      "Epoch 5/10\n",
      "937/937 [==============================] - 1019s 1s/step - loss: 0.1109 - accuracy: 0.9722 - val_loss: 0.0581 - val_accuracy: 0.9845\n",
      "Epoch 6/10\n",
      "937/937 [==============================] - 1021s 1s/step - loss: 0.0974 - accuracy: 0.9753 - val_loss: 0.0716 - val_accuracy: 0.9826\n",
      "Epoch 7/10\n",
      "937/937 [==============================] - 1010s 1s/step - loss: 0.0909 - accuracy: 0.9763 - val_loss: 0.0873 - val_accuracy: 0.9811\n",
      "Epoch 8/10\n",
      "937/937 [==============================] - 1011s 1s/step - loss: 0.0874 - accuracy: 0.9779 - val_loss: 0.0449 - val_accuracy: 0.9873\n",
      "Epoch 9/10\n",
      "937/937 [==============================] - 1009s 1s/step - loss: 0.0778 - accuracy: 0.9801 - val_loss: 0.0400 - val_accuracy: 0.9873\n",
      "Epoch 10/10\n",
      "937/937 [==============================] - 1008s 1s/step - loss: 0.0767 - accuracy: 0.9805 - val_loss: 0.0892 - val_accuracy: 0.9763\n"
     ]
    }
   ],
   "source": [
    "# model.fit(X_train, y_train, batch_size=128, nb_epoch=1, validation_data=(X_test, y_test))\n",
    "\n",
    "hist=model.fit_generator(train_generator, steps_per_epoch=60000//64, epochs=10, \n",
    "                    validation_data=test_generator, validation_steps=10000//64)"
   ]
  },
  {
   "cell_type": "code",
   "execution_count": 13,
   "metadata": {
    "colab": {
     "base_uri": "https://localhost:8080/",
     "height": 295
    },
    "id": "pVoDYyX_Omdb",
    "outputId": "a154d545-eb86-40a1-a616-54c2903fee8f"
   },
   "outputs": [
    {
     "ename": "TypeError",
     "evalue": "'History' object is not subscriptable",
     "output_type": "error",
     "traceback": [
      "\u001b[1;31m---------------------------------------------------------------------------\u001b[0m",
      "\u001b[1;31mTypeError\u001b[0m                                 Traceback (most recent call last)",
      "\u001b[1;32m<ipython-input-13-cc58d12aef8c>\u001b[0m in \u001b[0;36m<module>\u001b[1;34m\u001b[0m\n\u001b[0;32m      1\u001b[0m \u001b[1;32mimport\u001b[0m \u001b[0mmatplotlib\u001b[0m\u001b[1;33m.\u001b[0m\u001b[0mpyplot\u001b[0m \u001b[1;32mas\u001b[0m \u001b[0mplt\u001b[0m\u001b[1;33m\u001b[0m\u001b[1;33m\u001b[0m\u001b[0m\n\u001b[1;32m----> 2\u001b[1;33m \u001b[0mplt\u001b[0m\u001b[1;33m.\u001b[0m\u001b[0mplot\u001b[0m\u001b[1;33m(\u001b[0m\u001b[0mmodel\u001b[0m\u001b[1;33m.\u001b[0m\u001b[0mhistory\u001b[0m\u001b[1;33m[\u001b[0m\u001b[1;34m'accuracy'\u001b[0m\u001b[1;33m]\u001b[0m\u001b[1;33m)\u001b[0m\u001b[1;33m\u001b[0m\u001b[1;33m\u001b[0m\u001b[0m\n\u001b[0m\u001b[0;32m      3\u001b[0m \u001b[0mplt\u001b[0m\u001b[1;33m.\u001b[0m\u001b[0mplot\u001b[0m\u001b[1;33m(\u001b[0m\u001b[0mmodel\u001b[0m\u001b[1;33m.\u001b[0m\u001b[0mhistory\u001b[0m\u001b[1;33m[\u001b[0m\u001b[1;34m'val_accuracy'\u001b[0m\u001b[1;33m]\u001b[0m\u001b[1;33m)\u001b[0m\u001b[1;33m\u001b[0m\u001b[1;33m\u001b[0m\u001b[0m\n\u001b[0;32m      4\u001b[0m \u001b[0mplt\u001b[0m\u001b[1;33m.\u001b[0m\u001b[0mplot\u001b[0m\u001b[1;33m(\u001b[0m\u001b[0mmodel\u001b[0m\u001b[1;33m.\u001b[0m\u001b[0mhistory\u001b[0m\u001b[1;33m[\u001b[0m\u001b[1;34m'loss'\u001b[0m\u001b[1;33m]\u001b[0m\u001b[1;33m)\u001b[0m\u001b[1;33m\u001b[0m\u001b[1;33m\u001b[0m\u001b[0m\n\u001b[0;32m      5\u001b[0m \u001b[0mplt\u001b[0m\u001b[1;33m.\u001b[0m\u001b[0mplot\u001b[0m\u001b[1;33m(\u001b[0m\u001b[0mmodel\u001b[0m\u001b[1;33m.\u001b[0m\u001b[0mhistory\u001b[0m\u001b[1;33m[\u001b[0m\u001b[1;34m'val_loss'\u001b[0m\u001b[1;33m]\u001b[0m\u001b[1;33m)\u001b[0m\u001b[1;33m\u001b[0m\u001b[1;33m\u001b[0m\u001b[0m\n",
      "\u001b[1;31mTypeError\u001b[0m: 'History' object is not subscriptable"
     ]
    }
   ],
   "source": [
    "import matplotlib.pyplot as plt\n",
    "plt.plot(hist.history['accuracy'])\n",
    "plt.plot(hist.history['val_accuracy'])\n",
    "plt.plot(hist.history['loss'])\n",
    "plt.plot(hist.history['val_loss'])\n",
    "plt.title(\"model accuracy\")\n",
    "plt.ylabel(\"Accuracy\")\n",
    "plt.xlabel(\"Epoch\")\n",
    "plt.legend([\"Accuracy\",\"Validation Accuracy\",\"loss\",\"Validation Loss\"])\n",
    "plt.show()"
   ]
  },
  {
   "cell_type": "code",
   "execution_count": 14,
   "metadata": {
    "id": "WDjIzZrPOnJs"
   },
   "outputs": [
    {
     "name": "stdout",
     "output_type": "stream",
     "text": [
      "313/313 [==============================] - 22s 69ms/step - loss: 0.0670 - accuracy: 0.98672s - loss:\n",
      "\n",
      "Test accuracy:  0.9866999983787537\n"
     ]
    }
   ],
   "source": [
    "score = model.evaluate(X_test, y_test)\n",
    "print()\n",
    "print('Test accuracy: ', score[1])"
   ]
  },
  {
   "cell_type": "code",
   "execution_count": null,
   "metadata": {
    "id": "xvlPBCTHOsMi"
   },
   "outputs": [],
   "source": [
    "------------------------------------------------------------"
   ]
  },
  {
   "cell_type": "code",
   "execution_count": null,
   "metadata": {
    "colab": {
     "base_uri": "https://localhost:8080/"
    },
    "id": "Ynkf35HdcmZ0",
    "outputId": "db7d71b2-baaf-4f82-f298-fd23c3bc4863"
   },
   "outputs": [
    {
     "name": "stdout",
     "output_type": "stream",
     "text": [
      "313/313 [==============================] - 21s 66ms/step - loss: 0.0893 - accuracy: 0.9762\n",
      "\n",
      "Test accuracy:  0.9761999845504761\n"
     ]
    }
   ],
   "source": [
    "score = model.evaluate(X_test, y_test)\n",
    "print()\n",
    "print('Test accuracy: ', score[1])"
   ]
  },
  {
   "cell_type": "code",
   "execution_count": null,
   "metadata": {
    "id": "-6SHOaoscoWf"
   },
   "outputs": [],
   "source": [
    "y_pred = model.predict(X_test)\n",
    "y_pred_probabilities = model.predict(X_test)"
   ]
  },
  {
   "cell_type": "code",
   "execution_count": null,
   "metadata": {
    "colab": {
     "base_uri": "https://localhost:8080/"
    },
    "id": "MW033jY7csQm",
    "outputId": "0ed665a3-739c-4855-b0e6-d5a0af5d8dc3"
   },
   "outputs": [
    {
     "data": {
      "text/plain": [
       "array([7, 2, 1, ..., 4, 5, 6])"
      ]
     },
     "execution_count": 54,
     "metadata": {},
     "output_type": "execute_result"
    }
   ],
   "source": [
    "y_pred=np.argmax(y_pred,axis=1)\n",
    "y_pred"
   ]
  },
  {
   "cell_type": "code",
   "execution_count": null,
   "metadata": {
    "colab": {
     "base_uri": "https://localhost:8080/"
    },
    "id": "WtHGW2GmPaEr",
    "outputId": "4847da86-aea0-4fdb-eac8-bc097b176837"
   },
   "outputs": [
    {
     "data": {
      "text/plain": [
       "array([[2.1847082e-09, 1.4464333e-06, 1.8916661e-06, ..., 9.9994314e-01,\n",
       "        1.6353164e-07, 3.9137500e-05],\n",
       "       [6.3213250e-08, 2.5096672e-12, 9.9999976e-01, ..., 1.1902749e-08,\n",
       "        3.0138018e-08, 1.0138460e-09],\n",
       "       [3.8705213e-16, 1.0000000e+00, 1.1444318e-12, ..., 4.3878087e-12,\n",
       "        1.1782617e-10, 5.0687997e-15],\n",
       "       ...,\n",
       "       [9.5654672e-11, 3.3935934e-11, 1.2969895e-11, ..., 6.3195642e-08,\n",
       "        2.8286353e-08, 2.0996273e-04],\n",
       "       [3.0498146e-17, 7.0171017e-20, 5.1534622e-20, ..., 1.1647364e-18,\n",
       "        1.2081425e-13, 1.5176161e-08],\n",
       "       [7.4995289e-13, 3.8259082e-17, 2.8693995e-17, ..., 4.0493186e-29,\n",
       "        1.0700366e-13, 9.7054418e-21]], dtype=float32)"
      ]
     },
     "execution_count": 70,
     "metadata": {},
     "output_type": "execute_result"
    }
   ],
   "source": [
    "y_pred_probabilities"
   ]
  },
  {
   "cell_type": "code",
   "execution_count": null,
   "metadata": {
    "colab": {
     "base_uri": "https://localhost:8080/"
    },
    "id": "N3aj6Hc7P2jC",
    "outputId": "f6f881b3-c2b8-4e8e-ab68-705e6b60a6d4"
   },
   "outputs": [
    {
     "data": {
      "text/plain": [
       "array([[0., 0., 0., ..., 1., 0., 0.],\n",
       "       [0., 0., 1., ..., 0., 0., 0.],\n",
       "       [0., 1., 0., ..., 0., 0., 0.],\n",
       "       ...,\n",
       "       [0., 0., 0., ..., 0., 0., 0.],\n",
       "       [0., 0., 0., ..., 0., 0., 0.],\n",
       "       [0., 0., 0., ..., 0., 0., 0.]], dtype=float32)"
      ]
     },
     "execution_count": 71,
     "metadata": {},
     "output_type": "execute_result"
    }
   ],
   "source": [
    "y_test"
   ]
  },
  {
   "cell_type": "code",
   "execution_count": null,
   "metadata": {
    "id": "rC1cicN8P5eM"
   },
   "outputs": [],
   "source": [
    "y_test_original= np.argmax(y_test,axis=1)"
   ]
  },
  {
   "cell_type": "code",
   "execution_count": null,
   "metadata": {
    "colab": {
     "base_uri": "https://localhost:8080/"
    },
    "id": "l-nF1opIP8DD",
    "outputId": "1f2ed7eb-b583-4f7f-ba8f-d9c541927238"
   },
   "outputs": [
    {
     "data": {
      "text/plain": [
       "array([7, 2, 1, ..., 4, 5, 6])"
      ]
     },
     "execution_count": 73,
     "metadata": {},
     "output_type": "execute_result"
    }
   ],
   "source": [
    "y_test_original"
   ]
  },
  {
   "cell_type": "code",
   "execution_count": null,
   "metadata": {
    "colab": {
     "base_uri": "https://localhost:8080/"
    },
    "id": "TcQWVXjJP98J",
    "outputId": "caafc26a-583b-46e5-cf4f-aebcb493651d"
   },
   "outputs": [
    {
     "name": "stdout",
     "output_type": "stream",
     "text": [
      "              precision    recall  f1-score   support\n",
      "\n",
      "           0       0.99      1.00      0.99       980\n",
      "           1       0.99      0.99      0.99      1135\n",
      "           2       0.99      0.99      0.99      1032\n",
      "           3       0.99      0.99      0.99      1010\n",
      "           4       1.00      0.85      0.92       982\n",
      "           5       0.99      0.99      0.99       892\n",
      "           6       1.00      0.98      0.99       958\n",
      "           7       0.99      0.99      0.99      1028\n",
      "           8       0.97      0.99      0.98       974\n",
      "           9       0.87      0.99      0.93      1009\n",
      "\n",
      "    accuracy                           0.98     10000\n",
      "   macro avg       0.98      0.98      0.98     10000\n",
      "weighted avg       0.98      0.98      0.98     10000\n",
      "\n"
     ]
    }
   ],
   "source": [
    "print(classification_report(y_true=y_test_original, y_pred=y_pred))"
   ]
  },
  {
   "cell_type": "code",
   "execution_count": null,
   "metadata": {
    "colab": {
     "base_uri": "https://localhost:8080/"
    },
    "id": "5CAaXY9xQEDt",
    "outputId": "7d0c3f3e-9697-4aac-c968-55398b3e238f"
   },
   "outputs": [
    {
     "name": "stdout",
     "output_type": "stream",
     "text": [
      "[[ 976    0    2    0    0    0    1    1    0    0]\n",
      " [   0 1129    0    1    0    0    0    1    4    0]\n",
      " [   1    2 1018    1    0    0    0    4    6    0]\n",
      " [   0    0    2  995    0    2    0    0    6    5]\n",
      " [   0    0    0    0  834    0    2    6    5  135]\n",
      " [   1    0    0    4    0  884    1    0    0    2]\n",
      " [   4    5    0    0    1    6  941    0    1    0]\n",
      " [   0    1    5    0    0    1    0 1014    6    1]\n",
      " [   0    0    2    0    0    1    0    0  969    2]\n",
      " [   0    0    0    0    0    0    0    3    4 1002]]\n"
     ]
    }
   ],
   "source": [
    "print(confusion_matrix(y_true=y_test_original, y_pred=y_pred))"
   ]
  },
  {
   "cell_type": "code",
   "execution_count": null,
   "metadata": {
    "id": "jneHVDkrQNop"
   },
   "outputs": [],
   "source": [
    "import itertools\n",
    "import matplotlib.pyplot as plt\n",
    "import numpy as np\n",
    "def plot_confusion_matrix(cm, classes,\n",
    "normalize=False,\n",
    "title='Confusion matrix',\n",
    "cmap=plt.cm.Blues):\n",
    "  if normalize:\n",
    "    cm = cm.astype('float') / cm.sum(axis=1)[:, np.newaxis]\n",
    "    print(\"Normalized confusion matrix\\n============================\")\n",
    "  else:\n",
    "    print('Confusion matrix, without normalization\\n============================')\n",
    "\n",
    "\n",
    "  print(cm)\n",
    "  print(\"\\n\")\n",
    "  plt.imshow(cm, interpolation='nearest', cmap=cmap)\n",
    "  plt.title(title)\n",
    "  plt.colorbar()\n",
    "  tick_marks = np.arange(len(classes))\n",
    "  plt.xticks(tick_marks, classes, rotation=45)\n",
    "  plt.yticks(tick_marks, classes)\n",
    "  fmt = '.2f' if normalize else 'd'\n",
    "  thresh = cm.max() / 2.\n",
    "  for i, j in itertools.product(range(cm.shape[0]), range(cm.shape[1])):\n",
    "    plt.text(j, i, format(cm[i, j], fmt),\n",
    "    horizontalalignment=\"center\",\n",
    "    color=\"white\" if cm[i, j] > thresh else \"black\")\n",
    "\n",
    "  plt.tight_layout()"
   ]
  },
  {
   "cell_type": "code",
   "execution_count": null,
   "metadata": {
    "colab": {
     "base_uri": "https://localhost:8080/",
     "height": 1000
    },
    "id": "esSqA_K0kLxt",
    "outputId": "229b954c-6800-4f1f-c6b8-825f0f89c81e"
   },
   "outputs": [
    {
     "name": "stdout",
     "output_type": "stream",
     "text": [
      "Confusion matrix, without normalization\n",
      "============================\n",
      "[[ 976    0    2    0    0    0    1    1    0    0]\n",
      " [   0 1129    0    1    0    0    0    1    4    0]\n",
      " [   1    2 1018    1    0    0    0    4    6    0]\n",
      " [   0    0    2  995    0    2    0    0    6    5]\n",
      " [   0    0    0    0  834    0    2    6    5  135]\n",
      " [   1    0    0    4    0  884    1    0    0    2]\n",
      " [   4    5    0    0    1    6  941    0    1    0]\n",
      " [   0    1    5    0    0    1    0 1014    6    1]\n",
      " [   0    0    2    0    0    1    0    0  969    2]\n",
      " [   0    0    0    0    0    0    0    3    4 1002]]\n",
      "\n",
      "\n",
      "Normalized confusion matrix\n",
      "============================\n",
      "[[9.96e-01 0.00e+00 2.04e-03 0.00e+00 0.00e+00 0.00e+00 1.02e-03 1.02e-03\n",
      "  0.00e+00 0.00e+00]\n",
      " [0.00e+00 9.95e-01 0.00e+00 8.81e-04 0.00e+00 0.00e+00 0.00e+00 8.81e-04\n",
      "  3.52e-03 0.00e+00]\n",
      " [9.69e-04 1.94e-03 9.86e-01 9.69e-04 0.00e+00 0.00e+00 0.00e+00 3.88e-03\n",
      "  5.81e-03 0.00e+00]\n",
      " [0.00e+00 0.00e+00 1.98e-03 9.85e-01 0.00e+00 1.98e-03 0.00e+00 0.00e+00\n",
      "  5.94e-03 4.95e-03]\n",
      " [0.00e+00 0.00e+00 0.00e+00 0.00e+00 8.49e-01 0.00e+00 2.04e-03 6.11e-03\n",
      "  5.09e-03 1.37e-01]\n",
      " [1.12e-03 0.00e+00 0.00e+00 4.48e-03 0.00e+00 9.91e-01 1.12e-03 0.00e+00\n",
      "  0.00e+00 2.24e-03]\n",
      " [4.18e-03 5.22e-03 0.00e+00 0.00e+00 1.04e-03 6.26e-03 9.82e-01 0.00e+00\n",
      "  1.04e-03 0.00e+00]\n",
      " [0.00e+00 9.73e-04 4.86e-03 0.00e+00 0.00e+00 9.73e-04 0.00e+00 9.86e-01\n",
      "  5.84e-03 9.73e-04]\n",
      " [0.00e+00 0.00e+00 2.05e-03 0.00e+00 0.00e+00 1.03e-03 0.00e+00 0.00e+00\n",
      "  9.95e-01 2.05e-03]\n",
      " [0.00e+00 0.00e+00 0.00e+00 0.00e+00 0.00e+00 0.00e+00 0.00e+00 2.97e-03\n",
      "  3.96e-03 9.93e-01]]\n",
      "\n",
      "\n"
     ]
    },
    {
     "data": {
      "image/png": "[encoded data removed]",
      "text/plain": [
       "<Figure size 432x288 with 2 Axes>"
      ]
     },
     "metadata": {},
     "output_type": "display_data"
    },
    {
     "data": {
      "image/png": "[encoded data removed]",
      "text/plain": [
       "<Figure size 432x288 with 2 Axes>"
      ]
     },
     "metadata": {},
     "output_type": "display_data"
    }
   ],
   "source": [
    "# Compute confusion matrix\n",
    "cnf_matrix = confusion_matrix(y_true=y_test_original, y_pred=y_pred)\n",
    "np.set_printoptions(precision=2)\n",
    "# Plot non-normalized confusion matrix\n",
    "plt.figure()\n",
    "plot_confusion_matrix(cnf_matrix, classes=class_names,\n",
    "title='Confusion matrix, without normalization')\n",
    "# Plot normalized confusion matrix\n",
    "plt.figure()\n",
    "plot_confusion_matrix(cnf_matrix, classes=class_names, normalize=True,\n",
    "title='Normalized confusion matrix')\n",
    "plt.show()"
   ]
  },
  {
   "cell_type": "code",
   "execution_count": null,
   "metadata": {
    "colab": {
     "base_uri": "https://localhost:8080/"
    },
    "id": "nwLwftMlQolO",
    "outputId": "afc96ab8-5fda-4725-9185-c54469b4d9d6"
   },
   "outputs": [
    {
     "name": "stdout",
     "output_type": "stream",
     "text": [
      "Precision Score :  0.9762\n"
     ]
    }
   ],
   "source": [
    "print(\"Precision Score : \",precision_score(y_test_original, y_pred, average='micro'))"
   ]
  },
  {
   "cell_type": "code",
   "execution_count": null,
   "metadata": {
    "colab": {
     "base_uri": "https://localhost:8080/"
    },
    "id": "_nlmnVR4RSkU",
    "outputId": "c0ff6b20-2090-42f3-9dcf-41706ad97aa5"
   },
   "outputs": [
    {
     "name": "stdout",
     "output_type": "stream",
     "text": [
      "Recall Score :  0.9762\n"
     ]
    }
   ],
   "source": [
    "print(\"Recall Score : \",recall_score(y_test_original, y_pred, average='micro'))"
   ]
  },
  {
   "cell_type": "code",
   "execution_count": null,
   "metadata": {
    "colab": {
     "base_uri": "https://localhost:8080/"
    },
    "id": "XJRH7m7PRVYk",
    "outputId": "cc02b83b-745f-4c2c-af3c-605c15c07c22"
   },
   "outputs": [
    {
     "name": "stdout",
     "output_type": "stream",
     "text": [
      "Accuracy Score :  0.9762\n"
     ]
    }
   ],
   "source": [
    "print(\"Accuracy Score : \",accuracy_score(y_test_original, y_pred))"
   ]
  },
  {
   "cell_type": "code",
   "execution_count": null,
   "metadata": {
    "colab": {
     "base_uri": "https://localhost:8080/"
    },
    "id": "c4lFGf90RYbZ",
    "outputId": "2f773a66-b96f-4cde-aa8d-f25156bdb1d4"
   },
   "outputs": [
    {
     "name": "stdout",
     "output_type": "stream",
     "text": [
      "F1 Score :  0.9762000000000001\n"
     ]
    }
   ],
   "source": [
    "print(\"F1 Score : \",f1_score(y_test_original, y_pred, average='micro'))"
   ]
  },
  {
   "cell_type": "code",
   "execution_count": null,
   "metadata": {
    "id": "qjIzfjfGRb7j"
   },
   "outputs": [],
   "source": []
  }
 ],
 "metadata": {
  "accelerator": "TPU",
  "colab": {
   "provenance": []
  },
  "kernelspec": {
   "display_name": "Python 3",
   "language": "python",
   "name": "python3"
  },
  "language_info": {
   "codemirror_mode": {
    "name": "ipython",
    "version": 3
   },
   "file_extension": ".py",
   "mimetype": "text/x-python",
   "name": "python",
   "nbconvert_exporter": "python",
   "pygments_lexer": "ipython3",
   "version": "3.8.8"
  }
 },
 "nbformat": 4,
 "nbformat_minor": 1
}
