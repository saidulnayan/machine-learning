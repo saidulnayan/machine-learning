{
 "cells": [
  {
   "cell_type": "code",
   "execution_count": 10,
   "metadata": {
    "colab": {
     "base_uri": "https://localhost:8080/"
    },
    "id": "OwmLmQtvZGAs",
    "outputId": "343dd57d-d6ae-4ba9-e1cf-899e703f6188"
   },
   "outputs": [
    {
     "name": "stdout",
     "output_type": "stream",
     "text": [
      "Importing libraries completed.\n"
     ]
    }
   ],
   "source": [
    "import tensorflow as tf\n",
    "import numpy as np\n",
    "import pandas as pd\n",
    "import matplotlib.pyplot as plt\n",
    "from tensorflow.keras import Model\n",
    "from keras.datasets import mnist\n",
    "from keras.utils import np_utils\n",
    "from tensorflow.keras.models import Sequential\n",
    "from tensorflow.keras.layers import Dense, Flatten, Conv2D, AveragePooling2D\n",
    "from sklearn.metrics import confusion_matrix,classification_report\n",
    "from sklearn.metrics import precision_score, recall_score, f1_score, accuracy_score\n",
    "\n",
    "np.random.seed(25)\n",
    "\n",
    "# importing libraries\n",
    "\n",
    "import numpy as np\n",
    "import matplotlib.pyplot as plt\n",
    "import os\n",
    "import random\n",
    "from tqdm import tqdm # for progress bar\n",
    "\n",
    "# Libraries for TensorFlow\n",
    "from tensorflow.keras.utils import to_categorical, plot_model\n",
    "from tensorflow.keras.preprocessing import image\n",
    "from tensorflow.keras import models, layers\n",
    "from tensorflow import keras\n",
    "\n",
    "# Library for Transfer Learning\n",
    "from tensorflow.keras.applications import VGG16\n",
    "from keras.applications.vgg16 import preprocess_input\n",
    "\n",
    "print(\"Importing libraries completed.\")"
   ]
  },
  {
   "cell_type": "code",
   "execution_count": 11,
   "metadata": {
    "colab": {
     "base_uri": "https://localhost:8080/"
    },
    "id": "Z2-PAZvzZNz-",
    "outputId": "a7ee7a24-32d9-4547-e2de-565f560b4e5d"
   },
   "outputs": [
    {
     "name": "stdout",
     "output_type": "stream",
     "text": [
      "X_train original shape (60000, 28, 28)\n",
      "y_train original shape (60000,)\n",
      "X_test original shape (10000, 28, 28)\n",
      "y_test original shape (10000,)\n"
     ]
    }
   ],
   "source": [
    "(X_train, y_train), (X_test, y_test) = mnist.load_data()\n",
    "print(\"X_train original shape\", X_train.shape)\n",
    "print(\"y_train original shape\", y_train.shape)\n",
    "print(\"X_test original shape\", X_test.shape)\n",
    "print(\"y_test original shape\", y_test.shape)"
   ]
  },
  {
   "cell_type": "code",
   "execution_count": 12,
   "metadata": {
    "colab": {
     "base_uri": "https://localhost:8080/",
     "height": 298
    },
    "id": "SzIBuxjWZvR8",
    "outputId": "c5b6e9d3-e401-49a1-b390-efc5b89de549"
   },
   "outputs": [
    {
     "data": {
      "text/plain": [
       "Text(0.5, 1.0, 'Class 5')"
      ]
     },
     "execution_count": 12,
     "metadata": {},
     "output_type": "execute_result"
    },
    {
     "data": {
      "image/png": "[encoded data removed]",
      "text/plain": [
       "<Figure size 432x288 with 1 Axes>"
      ]
     },
     "metadata": {
      "needs_background": "light"
     },
     "output_type": "display_data"
    }
   ],
   "source": [
    "plt.imshow(X_train[0], cmap='gray')\n",
    "plt.title('Class '+ str(y_train[0]))"
   ]
  },
  {
   "cell_type": "code",
   "execution_count": 13,
   "metadata": {
    "colab": {
     "base_uri": "https://localhost:8080/"
    },
    "id": "w0eKRizS8Oib",
    "outputId": "1e5a4c85-9e1e-4b16-9140-d76bc84ba5d4"
   },
   "outputs": [
    {
     "data": {
      "text/plain": [
       "((60000, 28, 84), (10000, 28, 84))"
      ]
     },
     "execution_count": 13,
     "metadata": {},
     "output_type": "execute_result"
    }
   ],
   "source": [
    "# Convert the images into 3 channels as MNIST images are Black and White so have 1 channel\n",
    "\n",
    "X_train=np.dstack([X_train] * 3)\n",
    "X_test=np.dstack([X_test]*3)\n",
    "X_train.shape,X_test.shape"
   ]
  },
  {
   "cell_type": "code",
   "execution_count": 14,
   "metadata": {
    "colab": {
     "base_uri": "https://localhost:8080/"
    },
    "id": "EAvhrt_d8YTq",
    "outputId": "8d1d10cc-0f8a-42d4-fbbe-debc0aeec962"
   },
   "outputs": [
    {
     "data": {
      "text/plain": [
       "((10000, 28, 28, 3), (60000, 28, 28, 3))"
      ]
     },
     "execution_count": 14,
     "metadata": {},
     "output_type": "execute_result"
    }
   ],
   "source": [
    "# Reshape images as per the tensor format required by tensorflow\n",
    "\n",
    "X_train = X_train.reshape(-1, 28,28,3)\n",
    "X_test= X_test.reshape (-1,28,28,3)\n",
    "X_test.shape,X_train.shape"
   ]
  },
  {
   "cell_type": "code",
   "execution_count": 15,
   "metadata": {
    "colab": {
     "base_uri": "https://localhost:8080/"
    },
    "id": "ThwnA7T48d-1",
    "outputId": "f6bf4ad9-7338-44e1-c2f8-855e3df46af2"
   },
   "outputs": [
    {
     "data": {
      "text/plain": [
       "((60000, 48, 48, 3), (10000, 48, 48, 3))"
      ]
     },
     "execution_count": 15,
     "metadata": {},
     "output_type": "execute_result"
    }
   ],
   "source": [
    "# Resize the images 48*48 as required by VGG16\n",
    "\n",
    "from tensorflow.keras.utils import img_to_array, array_to_img\n",
    "\n",
    "X_train = np.asarray([img_to_array(array_to_img(im, scale=False).resize((48,48))) for im in X_train])\n",
    "X_test = np.asarray([img_to_array(array_to_img(im, scale=False).resize((48,48))) for im in X_test])\n",
    "#train_x = preprocess_input(x)\n",
    "X_train.shape, X_test.shape"
   ]
  },
  {
   "cell_type": "code",
   "execution_count": null,
   "metadata": {
    "id": "5Ir32G7QZPn1"
   },
   "outputs": [],
   "source": [
    "# X_train = X_train.reshape(X_train.shape[0], 28, 28,1)\n",
    "# X_test = X_test.reshape(X_test.shape[0], 28, 28,1)"
   ]
  },
  {
   "cell_type": "code",
   "execution_count": 16,
   "metadata": {
    "colab": {
     "base_uri": "https://localhost:8080/"
    },
    "id": "QXMydPgFbIqc",
    "outputId": "fa209301-002b-43b1-e394-f77954fe6640"
   },
   "outputs": [
    {
     "name": "stdout",
     "output_type": "stream",
     "text": [
      "[0 1 2 3 4 5 6 7 8 9]\n"
     ]
    }
   ],
   "source": [
    "class_names = np.unique(y_train)\n",
    "print(class_names)"
   ]
  },
  {
   "cell_type": "code",
   "execution_count": 7,
   "metadata": {
    "colab": {
     "base_uri": "https://localhost:8080/"
    },
    "id": "GyWRuhlwSCYn",
    "outputId": "66a1bfe4-2861-42be-be7d-e5e1b1140d8c"
   },
   "outputs": [
    {
     "data": {
      "text/plain": [
       "1"
      ]
     },
     "execution_count": 7,
     "metadata": {},
     "output_type": "execute_result"
    }
   ],
   "source": [
    "y_test[2]"
   ]
  },
  {
   "cell_type": "code",
   "execution_count": 17,
   "metadata": {
    "id": "H_t-dfBQJYFV"
   },
   "outputs": [],
   "source": [
    "y_train=np_utils.to_categorical(y_train)\n",
    "y_test=np_utils.to_categorical(y_test)"
   ]
  },
  {
   "cell_type": "code",
   "execution_count": null,
   "metadata": {
    "colab": {
     "base_uri": "https://localhost:8080/"
    },
    "id": "t95alCsAPYk-",
    "outputId": "43197ab1-52a3-46f9-a077-d9fdf4dbebce"
   },
   "outputs": [
    {
     "data": {
      "text/plain": [
       "array([[0., 0., 0., ..., 0., 0., 0.],\n",
       "       [1., 0., 0., ..., 0., 0., 0.],\n",
       "       [0., 0., 0., ..., 0., 0., 0.],\n",
       "       ...,\n",
       "       [0., 0., 0., ..., 0., 0., 0.],\n",
       "       [0., 0., 0., ..., 0., 0., 0.],\n",
       "       [0., 0., 0., ..., 0., 1., 0.]], dtype=float32)"
      ]
     },
     "execution_count": 11,
     "metadata": {},
     "output_type": "execute_result"
    }
   ],
   "source": [
    "y_train\n"
   ]
  },
  {
   "cell_type": "code",
   "execution_count": 18,
   "metadata": {
    "id": "mq5gFNGVZ75N"
   },
   "outputs": [],
   "source": [
    "X_train = X_train.astype('float32')\n",
    "X_test = X_test.astype('float32')\n",
    "\n",
    "X_train/=255\n",
    "X_test/=255"
   ]
  },
  {
   "cell_type": "code",
   "execution_count": 19,
   "metadata": {
    "colab": {
     "base_uri": "https://localhost:8080/"
    },
    "id": "n4LRsVh9tooD",
    "outputId": "a7cbc4b6-76c6-4e7e-a71a-c9e036ad07be"
   },
   "outputs": [
    {
     "name": "stdout",
     "output_type": "stream",
     "text": [
      "(60000, 48, 48, 3)\n",
      "(10000, 48, 48, 3)\n",
      "(60000, 10)\n",
      "(10000, 10)\n"
     ]
    }
   ],
   "source": [
    "print(X_train.shape)\n",
    "print(X_test.shape)\n",
    "print(y_train.shape)\n",
    "print(y_test.shape)"
   ]
  },
  {
   "cell_type": "code",
   "execution_count": 20,
   "metadata": {
    "colab": {
     "base_uri": "https://localhost:8080/"
    },
    "id": "IxYV57ryZTiw",
    "outputId": "71d0cc13-ce25-4c65-efe0-b222108ac8fe"
   },
   "outputs": [],
   "source": [
    "# add preprocessing layer to the front of VGG\n",
    "from tensorflow.keras.applications import VGG16\n",
    "from keras.models import Model\n",
    "from keras.layers import Input, Lambda, Dense, Flatten, Dropout, GlobalAveragePooling2D\n",
    "\n",
    "base_model = VGG16(weights='imagenet', include_top=False,input_shape=(48,48,3))\n",
    "# don't train existing weights\n",
    "for layer in base_model.layers:\n",
    "    layer.trainable = False\n",
    "    \n",
    "#add a global spatial average pooling layer\n",
    "x = Flatten()(base_model.output)\n",
    "# Add dense layer\n",
    "x = Dense(100,activation='relu')(x)\n",
    "x = Dense(100,activation='relu')(x)\n",
    "x = Dense(100,activation='relu')(x)\n",
    "\n",
    "predictions = Dense(10,activation='softmax')(x)\n",
    "\n",
    "model = Model(inputs=base_model.input, outputs=predictions)"
   ]
  },
  {
   "cell_type": "code",
   "execution_count": 12,
   "metadata": {
    "colab": {
     "base_uri": "https://localhost:8080/"
    },
    "id": "k3kMucdhcmHI",
    "outputId": "9d0421dc-600e-4a66-c3ce-1570026cc954"
   },
   "outputs": [
    {
     "name": "stdout",
     "output_type": "stream",
     "text": [
      "Model: \"model\"\n",
      "_________________________________________________________________\n",
      "Layer (type)                 Output Shape              Param #   \n",
      "=================================================================\n",
      "input_1 (InputLayer)         [(None, 48, 48, 3)]       0         \n",
      "_________________________________________________________________\n",
      "block1_conv1 (Conv2D)        (None, 48, 48, 64)        1792      \n",
      "_________________________________________________________________\n",
      "block1_conv2 (Conv2D)        (None, 48, 48, 64)        36928     \n",
      "_________________________________________________________________\n",
      "block1_pool (MaxPooling2D)   (None, 24, 24, 64)        0         \n",
      "_________________________________________________________________\n",
      "block2_conv1 (Conv2D)        (None, 24, 24, 128)       73856     \n",
      "_________________________________________________________________\n",
      "block2_conv2 (Conv2D)        (None, 24, 24, 128)       147584    \n",
      "_________________________________________________________________\n",
      "block2_pool (MaxPooling2D)   (None, 12, 12, 128)       0         \n",
      "_________________________________________________________________\n",
      "block3_conv1 (Conv2D)        (None, 12, 12, 256)       295168    \n",
      "_________________________________________________________________\n",
      "block3_conv2 (Conv2D)        (None, 12, 12, 256)       590080    \n",
      "_________________________________________________________________\n",
      "block3_conv3 (Conv2D)        (None, 12, 12, 256)       590080    \n",
      "_________________________________________________________________\n",
      "block3_pool (MaxPooling2D)   (None, 6, 6, 256)         0         \n",
      "_________________________________________________________________\n",
      "block4_conv1 (Conv2D)        (None, 6, 6, 512)         1180160   \n",
      "_________________________________________________________________\n",
      "block4_conv2 (Conv2D)        (None, 6, 6, 512)         2359808   \n",
      "_________________________________________________________________\n",
      "block4_conv3 (Conv2D)        (None, 6, 6, 512)         2359808   \n",
      "_________________________________________________________________\n",
      "block4_pool (MaxPooling2D)   (None, 3, 3, 512)         0         \n",
      "_________________________________________________________________\n",
      "block5_conv1 (Conv2D)        (None, 3, 3, 512)         2359808   \n",
      "_________________________________________________________________\n",
      "block5_conv2 (Conv2D)        (None, 3, 3, 512)         2359808   \n",
      "_________________________________________________________________\n",
      "block5_conv3 (Conv2D)        (None, 3, 3, 512)         2359808   \n",
      "_________________________________________________________________\n",
      "block5_pool (MaxPooling2D)   (None, 1, 1, 512)         0         \n",
      "_________________________________________________________________\n",
      "flatten (Flatten)            (None, 512)               0         \n",
      "_________________________________________________________________\n",
      "dense (Dense)                (None, 100)               51300     \n",
      "_________________________________________________________________\n",
      "dense_1 (Dense)              (None, 100)               10100     \n",
      "_________________________________________________________________\n",
      "dense_2 (Dense)              (None, 100)               10100     \n",
      "_________________________________________________________________\n",
      "dense_3 (Dense)              (None, 10)                1010      \n",
      "=================================================================\n",
      "Total params: 14,787,198\n",
      "Trainable params: 72,510\n",
      "Non-trainable params: 14,714,688\n",
      "_________________________________________________________________\n"
     ]
    }
   ],
   "source": [
    "model.summary()"
   ]
  },
  {
   "cell_type": "code",
   "execution_count": 21,
   "metadata": {
    "id": "DkJcpHNKZVmU"
   },
   "outputs": [],
   "source": [
    "model.compile(loss='categorical_crossentropy', optimizer='adam',metrics=['accuracy'])"
   ]
  },
  {
   "cell_type": "code",
   "execution_count": 22,
   "metadata": {
    "colab": {
     "background_save": true,
     "base_uri": "https://localhost:8080/"
    },
    "id": "iL8b2rYBZYof",
    "outputId": "7976d55d-ca53-4d88-a011-f2948b26171d"
   },
   "outputs": [
    {
     "name": "stdout",
     "output_type": "stream",
     "text": [
      "Epoch 1/20\n",
      "469/469 [==============================] - 994s 2s/step - loss: 0.4127 - accuracy: 0.8717 - val_loss: 0.2005 - val_accuracy: 0.9352\n",
      "Epoch 2/20\n",
      "469/469 [==============================] - 985s 2s/step - loss: 0.1749 - accuracy: 0.9436 - val_loss: 0.1634 - val_accuracy: 0.9443\n",
      "Epoch 3/20\n",
      "469/469 [==============================] - 974s 2s/step - loss: 0.1482 - accuracy: 0.9523 - val_loss: 0.1473 - val_accuracy: 0.9512\n",
      "Epoch 4/20\n",
      "469/469 [==============================] - 977s 2s/step - loss: 0.1325 - accuracy: 0.9571 - val_loss: 0.1402 - val_accuracy: 0.9543\n",
      "Epoch 5/20\n",
      "469/469 [==============================] - 967s 2s/step - loss: 0.1183 - accuracy: 0.9610 - val_loss: 0.1322 - val_accuracy: 0.9577\n",
      "Epoch 6/20\n",
      "469/469 [==============================] - 969s 2s/step - loss: 0.1156 - accuracy: 0.9621 - val_loss: 0.1284 - val_accuracy: 0.9585\n",
      "Epoch 7/20\n",
      "469/469 [==============================] - 968s 2s/step - loss: 0.1077 - accuracy: 0.9646 - val_loss: 0.1307 - val_accuracy: 0.9568\n",
      "Epoch 8/20\n",
      "469/469 [==============================] - 978s 2s/step - loss: 0.0967 - accuracy: 0.9678 - val_loss: 0.1182 - val_accuracy: 0.9610\n",
      "Epoch 9/20\n",
      "469/469 [==============================] - 967s 2s/step - loss: 0.0935 - accuracy: 0.9689 - val_loss: 0.1144 - val_accuracy: 0.9649\n",
      "Epoch 10/20\n",
      "469/469 [==============================] - 969s 2s/step - loss: 0.0938 - accuracy: 0.9683 - val_loss: 0.1125 - val_accuracy: 0.9629\n",
      "Epoch 11/20\n",
      "469/469 [==============================] - 968s 2s/step - loss: 0.0827 - accuracy: 0.9716 - val_loss: 0.1173 - val_accuracy: 0.9637\n",
      "Epoch 12/20\n",
      "469/469 [==============================] - 978s 2s/step - loss: 0.0802 - accuracy: 0.9733 - val_loss: 0.1067 - val_accuracy: 0.9655\n",
      "Epoch 13/20\n",
      "469/469 [==============================] - 968s 2s/step - loss: 0.0753 - accuracy: 0.9747 - val_loss: 0.1236 - val_accuracy: 0.9609\n",
      "Epoch 14/20\n",
      "469/469 [==============================] - 968s 2s/step - loss: 0.0735 - accuracy: 0.9748 - val_loss: 0.1369 - val_accuracy: 0.9573\n",
      "Epoch 15/20\n",
      "469/469 [==============================] - 967s 2s/step - loss: 0.0659 - accuracy: 0.9778 - val_loss: 0.1088 - val_accuracy: 0.9662\n",
      "Epoch 16/20\n",
      "469/469 [==============================] - 982s 2s/step - loss: 0.0653 - accuracy: 0.9780 - val_loss: 0.0967 - val_accuracy: 0.9698\n",
      "Epoch 17/20\n",
      "469/469 [==============================] - 978s 2s/step - loss: 0.0610 - accuracy: 0.9787 - val_loss: 0.1146 - val_accuracy: 0.9649\n",
      "Epoch 18/20\n",
      "469/469 [==============================] - 977s 2s/step - loss: 0.0587 - accuracy: 0.9801 - val_loss: 0.1053 - val_accuracy: 0.9674\n",
      "Epoch 19/20\n",
      "469/469 [==============================] - 996s 2s/step - loss: 0.0551 - accuracy: 0.9811 - val_loss: 0.1199 - val_accuracy: 0.9648\n",
      "Epoch 20/20\n",
      "469/469 [==============================] - 972s 2s/step - loss: 0.0514 - accuracy: 0.9823 - val_loss: 0.1083 - val_accuracy: 0.9682\n"
     ]
    }
   ],
   "source": [
    "hist= model.fit(X_train, y_train,batch_size=128, \n",
    "          epochs=20,verbose=True, \n",
    "          validation_data=(X_test, y_test))"
   ]
  },
  {
   "cell_type": "code",
   "execution_count": 23,
   "metadata": {
    "colab": {
     "base_uri": "https://localhost:8080/",
     "height": 294
    },
    "id": "bURJT6_PysPO",
    "outputId": "0fbe30b7-2a79-4b16-9fab-9649d46e0963"
   },
   "outputs": [
    {
     "data": {
      "image/png": "[encoded data removed]",
      "text/plain": [
       "<Figure size 432x288 with 1 Axes>"
      ]
     },
     "metadata": {
      "needs_background": "light"
     },
     "output_type": "display_data"
    }
   ],
   "source": [
    "import matplotlib.pyplot as plt\n",
    "plt.plot(hist.history['accuracy'])\n",
    "plt.plot(hist.history['val_accuracy'])\n",
    "plt.plot(hist.history['loss'])\n",
    "plt.plot(hist.history['val_loss'])\n",
    "plt.title(\"model accuracy\")\n",
    "plt.ylabel(\"Accuracy\")\n",
    "plt.xlabel(\"Epoch\")\n",
    "plt.legend([\"Accuracy\",\"Validation Accuracy\",\"loss\",\"Validation Loss\"])\n",
    "plt.show()"
   ]
  },
  {
   "cell_type": "code",
   "execution_count": null,
   "metadata": {
    "colab": {
     "base_uri": "https://localhost:8080/"
    },
    "id": "inO3wIfTcwdJ",
    "outputId": "51ced13e-8a7f-44dc-aa5f-570e8c1fcc2d"
   },
   "outputs": [
    {
     "name": "stdout",
     "output_type": "stream",
     "text": [
      "Mounted at /content/gdrive\n"
     ]
    }
   ],
   "source": [
    "# from google.colab import drive\n",
    "# drive.mount('/content/gdrive')"
   ]
  },
  {
   "cell_type": "code",
   "execution_count": null,
   "metadata": {
    "colab": {
     "base_uri": "https://localhost:8080/"
    },
    "id": "gfoEtycZx1KW",
    "outputId": "46df5958-ae97-4505-ca8d-8838bf0b4bb7"
   },
   "outputs": [
    {
     "name": "stdout",
     "output_type": "stream",
     "text": [
      "INFO:tensorflow:Assets written to: /content/gdrive/MyDrive/CNN_Models/{model_save_name}/assets\n"
     ]
    }
   ],
   "source": [
    "## model_save_name = 'LeNet-5 Adam.h5'\n",
    "## model.save('/content/gdrive/MyDrive/CNN_Models/{model_save_name}')"
   ]
  },
  {
   "cell_type": "code",
   "execution_count": null,
   "metadata": {
    "id": "Cuv6KfpIwnaU"
   },
   "outputs": [],
   "source": [
    "# model.save(\"VGG16_Adam.h5\")"
   ]
  },
  {
   "cell_type": "code",
   "execution_count": null,
   "metadata": {
    "id": "iIMIS-pCesD5"
   },
   "outputs": [],
   "source": [
    "--------------------------------------------------"
   ]
  },
  {
   "cell_type": "code",
   "execution_count": null,
   "metadata": {
    "id": "w7qGMrLcvE2t"
   },
   "outputs": [],
   "source": [
    "# from tensorflow import keras\n",
    "# model = keras.models.load_model('/content/gdrive/MyDrive/CNN_Models/LeNet-5_Adam.h5')"
   ]
  },
  {
   "cell_type": "code",
   "execution_count": 24,
   "metadata": {
    "colab": {
     "base_uri": "https://localhost:8080/"
    },
    "id": "LaTPAqa5fIjY",
    "outputId": "2c3c2c62-b4d0-47cd-faed-3763f7a48d8c"
   },
   "outputs": [
    {
     "name": "stdout",
     "output_type": "stream",
     "text": [
      "313/313 [==============================] - 151s 481ms/step - loss: 0.1083 - accuracy: 0.9682\n",
      "\n",
      "Test accuracy:  0.9682000279426575\n"
     ]
    }
   ],
   "source": [
    "score = model.evaluate(X_test, y_test)\n",
    "print()\n",
    "print('Test accuracy: ', score[1])\n"
   ]
  },
  {
   "cell_type": "code",
   "execution_count": 25,
   "metadata": {
    "id": "eRfiusXodRDZ"
   },
   "outputs": [],
   "source": [
    "y_pred = model.predict(X_test)\n",
    "y_pred_probabilities = model.predict(X_test)"
   ]
  },
  {
   "cell_type": "code",
   "execution_count": null,
   "metadata": {
    "colab": {
     "base_uri": "https://localhost:8080/"
    },
    "id": "RtHyKCQHeJkV",
    "outputId": "13f7b703-9afb-429d-f2d9-1c66621c65bb"
   },
   "outputs": [
    {
     "data": {
      "text/plain": [
       "array([7, 2, 1, ..., 4, 5, 6])"
      ]
     },
     "execution_count": 16,
     "metadata": {},
     "output_type": "execute_result"
    }
   ],
   "source": [
    "y_pred=np.argmax(y_pred,axis=1)\n",
    "y_pred"
   ]
  },
  {
   "cell_type": "code",
   "execution_count": null,
   "metadata": {
    "colab": {
     "base_uri": "https://localhost:8080/"
    },
    "id": "gyZse_fKeLlJ",
    "outputId": "b7370279-514d-475b-d653-4b10d4dbb7c9"
   },
   "outputs": [
    {
     "data": {
      "text/plain": [
       "array([[0.05854007, 0.05844117, 0.1247424 , ..., 0.40974662, 0.10429846,\n",
       "        0.01091308],\n",
       "       [0.05854007, 0.05844117, 0.1247424 , ..., 0.40974662, 0.10429846,\n",
       "        0.01091308],\n",
       "       [0.05854007, 0.05844117, 0.1247424 , ..., 0.40974662, 0.10429846,\n",
       "        0.01091308],\n",
       "       ...,\n",
       "       [0.05854007, 0.05844117, 0.1247424 , ..., 0.40974662, 0.10429846,\n",
       "        0.01091308],\n",
       "       [0.05854007, 0.05844117, 0.1247424 , ..., 0.40974662, 0.10429846,\n",
       "        0.01091308],\n",
       "       [0.05854007, 0.05844117, 0.1247424 , ..., 0.40974662, 0.10429846,\n",
       "        0.01091308]], dtype=float32)"
      ]
     },
     "execution_count": 17,
     "metadata": {},
     "output_type": "execute_result"
    }
   ],
   "source": [
    "y_pred_probabilities"
   ]
  },
  {
   "cell_type": "code",
   "execution_count": null,
   "metadata": {
    "colab": {
     "base_uri": "https://localhost:8080/"
    },
    "id": "YJaqaYfued2S",
    "outputId": "587082f1-973d-4cbf-84e1-3ba6b9881eef"
   },
   "outputs": [
    {
     "data": {
      "text/plain": [
       "array([[0., 0., 0., ..., 1., 0., 0.],\n",
       "       [0., 0., 1., ..., 0., 0., 0.],\n",
       "       [0., 1., 0., ..., 0., 0., 0.],\n",
       "       ...,\n",
       "       [0., 0., 0., ..., 0., 0., 0.],\n",
       "       [0., 0., 0., ..., 0., 0., 0.],\n",
       "       [0., 0., 0., ..., 0., 0., 0.]], dtype=float32)"
      ]
     },
     "execution_count": 18,
     "metadata": {},
     "output_type": "execute_result"
    }
   ],
   "source": [
    "y_test"
   ]
  },
  {
   "cell_type": "code",
   "execution_count": null,
   "metadata": {
    "id": "jGgUjMxndrVD"
   },
   "outputs": [],
   "source": [
    "y_test_original= np.argmax(y_test,axis=1)"
   ]
  },
  {
   "cell_type": "code",
   "execution_count": null,
   "metadata": {
    "colab": {
     "base_uri": "https://localhost:8080/"
    },
    "id": "029G2F98dwe_",
    "outputId": "be557db2-c807-4750-dae0-a554a00febe9"
   },
   "outputs": [
    {
     "data": {
      "text/plain": [
       "array([7, 2, 1, ..., 4, 5, 6])"
      ]
     },
     "execution_count": 20,
     "metadata": {},
     "output_type": "execute_result"
    }
   ],
   "source": [
    "y_test_original"
   ]
  },
  {
   "cell_type": "code",
   "execution_count": null,
   "metadata": {
    "colab": {
     "base_uri": "https://localhost:8080/"
    },
    "id": "6NsrH0Tjei6r",
    "outputId": "841545ed-c80b-4eba-99f8-78b4fe622852"
   },
   "outputs": [
    {
     "name": "stdout",
     "output_type": "stream",
     "text": [
      "              precision    recall  f1-score   support\n",
      "\n",
      "           0       0.98      0.99      0.99       980\n",
      "           1       0.99      0.99      0.99      1135\n",
      "           2       0.96      0.98      0.97      1032\n",
      "           3       0.97      0.98      0.97      1010\n",
      "           4       0.99      0.98      0.98       982\n",
      "           5       0.97      0.98      0.98       892\n",
      "           6       0.99      0.97      0.98       958\n",
      "           7       0.98      0.95      0.97      1028\n",
      "           8       0.96      0.97      0.97       974\n",
      "           9       0.97      0.97      0.97      1009\n",
      "\n",
      "    accuracy                           0.98     10000\n",
      "   macro avg       0.98      0.98      0.98     10000\n",
      "weighted avg       0.98      0.98      0.98     10000\n",
      "\n"
     ]
    }
   ],
   "source": [
    "print(classification_report(y_true=y_test_original, y_pred=y_pred))"
   ]
  },
  {
   "cell_type": "code",
   "execution_count": null,
   "metadata": {
    "colab": {
     "base_uri": "https://localhost:8080/"
    },
    "id": "SrF6BBPZfJri",
    "outputId": "6026d516-3a5d-4abd-9dbe-f19631a8477c"
   },
   "outputs": [
    {
     "name": "stdout",
     "output_type": "stream",
     "text": [
      "[[ 971    0    0    0    0    3    3    1    2    0]\n",
      " [   0 1120    2    0    0    0    2    1   10    0]\n",
      " [   3    1 1016    3    0    0    0    3    6    0]\n",
      " [   1    0    6  988    0    6    0    4    5    0]\n",
      " [   0    0    3    1  963    0    1    1    1   12]\n",
      " [   0    0    0   10    0  876    3    0    1    2]\n",
      " [   9    3    0    0    3   10  930    0    3    0]\n",
      " [   1    2   26    7    1    0    0  978    4    9]\n",
      " [   2    0    3    5    1    3    3    4  948    5]\n",
      " [   1    0    2    4    9    5    0    6    3  979]]\n"
     ]
    }
   ],
   "source": [
    "print(confusion_matrix(y_true=y_test_original, y_pred=y_pred))"
   ]
  },
  {
   "cell_type": "code",
   "execution_count": null,
   "metadata": {
    "id": "76V9JwUhjcp_"
   },
   "outputs": [],
   "source": [
    "import itertools\n",
    "import matplotlib.pyplot as plt\n",
    "import numpy as np\n",
    "def plot_confusion_matrix(cm, classes,\n",
    "normalize=False,\n",
    "title='Confusion matrix',\n",
    "cmap=plt.cm.Blues):\n",
    "  if normalize:\n",
    "    cm = cm.astype('float') / cm.sum(axis=1)[:, np.newaxis]\n",
    "    print(\"Normalized confusion matrix\\n============================\")\n",
    "  else:\n",
    "    print('Confusion matrix, without normalization\\n============================')\n",
    "\n",
    "\n",
    "  print(cm)\n",
    "  print(\"\\n\")\n",
    "  plt.imshow(cm, interpolation='nearest', cmap=cmap)\n",
    "  plt.title(title)\n",
    "  plt.colorbar()\n",
    "  tick_marks = np.arange(len(classes))\n",
    "  plt.xticks(tick_marks, classes, rotation=45)\n",
    "  plt.yticks(tick_marks, classes)\n",
    "  fmt = '.2f' if normalize else 'd'\n",
    "  thresh = cm.max() / 2.\n",
    "  for i, j in itertools.product(range(cm.shape[0]), range(cm.shape[1])):\n",
    "    plt.text(j, i, format(cm[i, j], fmt),\n",
    "    horizontalalignment=\"center\",\n",
    "    color=\"white\" if cm[i, j] > thresh else \"black\")\n",
    "\n",
    "  plt.tight_layout()"
   ]
  },
  {
   "cell_type": "code",
   "execution_count": null,
   "metadata": {
    "id": "dDXAiqn8lEJP"
   },
   "outputs": [],
   "source": [
    "# Compute confusion matrix\n",
    "cnf_matrix = confusion_matrix(y_true=y_test_original, y_pred=y_pred)\n",
    "np.set_printoptions(precision=2)\n",
    "# Plot non-normalized confusion matrix\n",
    "plt.figure()\n",
    "plot_confusion_matrix(cnf_matrix, classes=class_names,\n",
    "title='Confusion matrix, without normalization')\n",
    "# Plot normalized confusion matrix\n",
    "plt.figure()\n",
    "plot_confusion_matrix(cnf_matrix, classes=class_names, normalize=True,\n",
    "title='Normalized confusion matrix')\n",
    "plt.show()\n"
   ]
  },
  {
   "cell_type": "code",
   "execution_count": null,
   "metadata": {
    "colab": {
     "base_uri": "https://localhost:8080/"
    },
    "id": "gr3yniUpdrHT",
    "outputId": "8e45d3d0-4edf-41a6-a527-1af68c189d84"
   },
   "outputs": [
    {
     "name": "stdout",
     "output_type": "stream",
     "text": [
      "Precision Score :  0.9769\n"
     ]
    }
   ],
   "source": [
    "\n",
    "print(\"Precision Score : \",precision_score(y_test_original, y_pred, average='micro'))"
   ]
  },
  {
   "cell_type": "code",
   "execution_count": null,
   "metadata": {
    "colab": {
     "base_uri": "https://localhost:8080/"
    },
    "id": "nvHRgWIlqRBc",
    "outputId": "f5ef5c4a-ee9e-4b38-a8cc-302ed5d1be79"
   },
   "outputs": [
    {
     "name": "stdout",
     "output_type": "stream",
     "text": [
      "Recall Score :  0.9769\n"
     ]
    }
   ],
   "source": [
    "print(\"Recall Score : \",recall_score(y_test_original, y_pred, average='micro'))"
   ]
  },
  {
   "cell_type": "code",
   "execution_count": null,
   "metadata": {
    "colab": {
     "base_uri": "https://localhost:8080/"
    },
    "id": "rKtTyKUXqfiI",
    "outputId": "b4353d69-4332-4d0b-84dc-d0f524de0233"
   },
   "outputs": [
    {
     "name": "stdout",
     "output_type": "stream",
     "text": [
      "Accuracy Score :  0.9769\n"
     ]
    }
   ],
   "source": [
    "print(\"Accuracy Score : \",accuracy_score(y_test_original, y_pred))"
   ]
  },
  {
   "cell_type": "code",
   "execution_count": null,
   "metadata": {
    "colab": {
     "base_uri": "https://localhost:8080/"
    },
    "id": "QcMKtWkmq1XP",
    "outputId": "f248bc01-5bbd-416e-e922-b5d0bd29f35d"
   },
   "outputs": [
    {
     "name": "stdout",
     "output_type": "stream",
     "text": [
      "F1 Score :  0.9769\n"
     ]
    }
   ],
   "source": [
    "print(\"F1 Score : \",f1_score(y_test_original, y_pred, average='micro'))"
   ]
  },
  {
   "cell_type": "code",
   "execution_count": null,
   "metadata": {
    "id": "2sBAhe53peNB"
   },
   "outputs": [],
   "source": []
  },
  {
   "cell_type": "code",
   "execution_count": null,
   "metadata": {
    "colab": {
     "base_uri": "https://localhost:8080/",
     "height": 265
    },
    "id": "OHBo9cW1fDpo",
    "outputId": "dd8ede59-0f51-4f41-ea95-23f35fe1e21d"
   },
   "outputs": [
    {
     "data": {
      "image/png": "[encoded data removed]",
      "text/plain": [
       "<Figure size 432x288 with 1 Axes>"
      ]
     },
     "metadata": {},
     "output_type": "display_data"
    }
   ],
   "source": [
    "plt.imshow((tf.squeeze(x_test[0])))\n",
    "plt.show()"
   ]
  },
  {
   "cell_type": "code",
   "execution_count": null,
   "metadata": {
    "colab": {
     "base_uri": "https://localhost:8080/"
    },
    "id": "pIe5RggZZakE",
    "outputId": "25bdb5c8-924a-4e9e-89c0-270beb9a596c"
   },
   "outputs": [
    {
     "name": "stdout",
     "output_type": "stream",
     "text": [
      "7\n"
     ]
    }
   ],
   "source": [
    "predictions = model.predict(x_test)\n",
    "print(np.argmax(predictions[0]))"
   ]
  },
  {
   "cell_type": "code",
   "execution_count": null,
   "metadata": {
    "colab": {
     "base_uri": "https://localhost:8080/",
     "height": 285
    },
    "id": "csCEQU237l4C",
    "outputId": "5aaa4d97-4658-4578-f21e-5a72938bfa6e"
   },
   "outputs": [
    {
     "data": {
      "text/plain": [
       "<matplotlib.image.AxesImage at 0x7fb6db7faed0>"
      ]
     },
     "execution_count": 10,
     "metadata": {},
     "output_type": "execute_result"
    },
    {
     "data": {
      "image/png": "[encoded data removed]",
      "text/plain": [
       "<Figure size 432x288 with 1 Axes>"
      ]
     },
     "metadata": {},
     "output_type": "display_data"
    }
   ],
   "source": [
    "from PIL import Image\n",
    "image=Image.open('test.jpg')\n",
    "plt.imshow(image)\n"
   ]
  },
  {
   "cell_type": "code",
   "execution_count": null,
   "metadata": {
    "colab": {
     "base_uri": "https://localhost:8080/"
    },
    "id": "Daed9KXtlyn5",
    "outputId": "ee6d667c-7565-436f-cc85-98b5a64a95e2"
   },
   "outputs": [
    {
     "name": "stdout",
     "output_type": "stream",
     "text": [
      "(222, 223)\n",
      "<class 'PIL.PngImagePlugin.PngImageFile'>\n"
     ]
    }
   ],
   "source": [
    "print(image.size)\n",
    "print(type(image))"
   ]
  },
  {
   "cell_type": "code",
   "execution_count": null,
   "metadata": {
    "id": "SDwCrHB8W_RQ"
   },
   "outputs": [],
   "source": [
    "import cv2\n",
    "image = cv2.imread(\"test.jpg\", cv2.IMREAD_GRAYSCALE)\n",
    "image = cv2.resize(image, (32, 32))\n",
    "image = image.astype('float32')\n",
    "image = image.reshape(1, 32, 32, 1)\n",
    "image /= 255"
   ]
  },
  {
   "cell_type": "code",
   "execution_count": null,
   "metadata": {
    "colab": {
     "base_uri": "https://localhost:8080/"
    },
    "id": "ooDvxL8a6qaI",
    "outputId": "107503e7-a211-4c52-9194-a305b1f11a41"
   },
   "outputs": [
    {
     "name": "stdout",
     "output_type": "stream",
     "text": [
      "4\n"
     ]
    }
   ],
   "source": [
    "pred = model.predict(image, batch_size=1)\n",
    "print(pred.argmax())"
   ]
  }
 ],
 "metadata": {
  "accelerator": "TPU",
  "colab": {
   "provenance": []
  },
  "gpuClass": "standard",
  "kernelspec": {
   "display_name": "Python 3",
   "language": "python",
   "name": "python3"
  },
  "language_info": {
   "codemirror_mode": {
    "name": "ipython",
    "version": 3
   },
   "file_extension": ".py",
   "mimetype": "text/x-python",
   "name": "python",
   "nbconvert_exporter": "python",
   "pygments_lexer": "ipython3",
   "version": "3.8.8"
  }
 },
 "nbformat": 4,
 "nbformat_minor": 1
}
