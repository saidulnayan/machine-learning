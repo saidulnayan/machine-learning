{
 "cells": [
  {
   "cell_type": "code",
   "execution_count": 24,
   "id": "64a51f95",
   "metadata": {},
   "outputs": [
    {
     "data": {
      "image/png": "[encoded data removed]",
      "text/plain": [
       "<Figure size 432x288 with 1 Axes>"
      ]
     },
     "metadata": {
      "needs_background": "light"
     },
     "output_type": "display_data"
    }
   ],
   "source": [
    "\n",
    "import pandas\n",
    "import matplotlib.pyplot as plt\n",
    "from sklearn.linear_model import LinearRegression\n",
    "data = pandas.read_csv('co2_emission.csv')\n",
    "plt.scatter(data['Year'], data['Co2'])\n",
    "plt.show()\n",
    "\n"
   ]
  },
  {
   "cell_type": "code",
   "execution_count": 25,
   "id": "53726f35",
   "metadata": {},
   "outputs": [
    {
     "data": {
      "text/plain": [
       "LinearRegression()"
      ]
     },
     "execution_count": 25,
     "metadata": {},
     "output_type": "execute_result"
    }
   ],
   "source": [
    "model = LinearRegression()\n",
    "model.fit(data[['Year']], data[['Co2']])"
   ]
  },
  {
   "cell_type": "code",
   "execution_count": 26,
   "id": "9d8b11c6",
   "metadata": {},
   "outputs": [
    {
     "data": {
      "text/plain": [
       "<seaborn.axisgrid.FacetGrid at 0x1dc65b3dbe0>"
      ]
     },
     "execution_count": 26,
     "metadata": {},
     "output_type": "execute_result"
    },
    {
     "data": {
      "image/png": "[encoded data removed]",
      "text/plain": [
       "<Figure size 360x360 with 1 Axes>"
      ]
     },
     "metadata": {
      "needs_background": "light"
     },
     "output_type": "display_data"
    }
   ],
   "source": [
    "# importing libraries\n",
    "import seaborn as sb\n",
    "  \n",
    "# use lmplot\n",
    "sb.lmplot(x = \"Year\",\n",
    "            y = \"Co2\", \n",
    "            ci = None,\n",
    "            data = data)"
   ]
  },
  {
   "cell_type": "code",
   "execution_count": 27,
   "id": "223b9d35",
   "metadata": {},
   "outputs": [
    {
     "name": "stdout",
     "output_type": "stream",
     "text": [
      "[[37385.37266667]]\n"
     ]
    }
   ],
   "source": [
    "print(model.predict([[2020]]))"
   ]
  },
  {
   "cell_type": "code",
   "execution_count": 28,
   "id": "0489717d",
   "metadata": {},
   "outputs": [
    {
     "name": "stdout",
     "output_type": "stream",
     "text": [
      "[[38940.23512381]]\n"
     ]
    }
   ],
   "source": [
    "print(model.predict([[2023]]))"
   ]
  },
  {
   "cell_type": "code",
   "execution_count": 29,
   "id": "65c90c24",
   "metadata": {},
   "outputs": [
    {
     "name": "stdout",
     "output_type": "stream",
     "text": [
      "[[39458.52260952]]\n"
     ]
    }
   ],
   "source": [
    "print(model.predict([[2024]]))"
   ]
  },
  {
   "cell_type": "code",
   "execution_count": 30,
   "id": "4c2816ba",
   "metadata": {},
   "outputs": [
    {
     "name": "stdout",
     "output_type": "stream",
     "text": [
      "[[39976.81009524]]\n"
     ]
    }
   ],
   "source": [
    "print(model.predict([[2025]]))"
   ]
  },
  {
   "cell_type": "code",
   "execution_count": 31,
   "id": "47a9c1a9",
   "metadata": {},
   "outputs": [
    {
     "name": "stdout",
     "output_type": "stream",
     "text": [
      "[[40495.09758095]]\n"
     ]
    }
   ],
   "source": [
    "print(model.predict([[2026]]))"
   ]
  },
  {
   "cell_type": "code",
   "execution_count": 32,
   "id": "07ab68a1",
   "metadata": {},
   "outputs": [
    {
     "name": "stdout",
     "output_type": "stream",
     "text": [
      "[[41013.38506667]]\n"
     ]
    }
   ],
   "source": [
    "print(model.predict([[2027]]))"
   ]
  },
  {
   "cell_type": "code",
   "execution_count": 33,
   "id": "bb53af46",
   "metadata": {},
   "outputs": [
    {
     "name": "stdout",
     "output_type": "stream",
     "text": [
      "[[41531.67255238]]\n"
     ]
    }
   ],
   "source": [
    "print(model.predict([[2028]]))"
   ]
  },
  {
   "cell_type": "code",
   "execution_count": 34,
   "id": "17373e03",
   "metadata": {},
   "outputs": [
    {
     "name": "stdout",
     "output_type": "stream",
     "text": [
      "[[42049.9600381]]\n"
     ]
    }
   ],
   "source": [
    "print(model.predict([[2029]]))"
   ]
  },
  {
   "cell_type": "code",
   "execution_count": 35,
   "id": "5c69d4be",
   "metadata": {},
   "outputs": [
    {
     "name": "stdout",
     "output_type": "stream",
     "text": [
      "[[42568.24752381]]\n"
     ]
    }
   ],
   "source": [
    "print(model.predict([[2030]]))"
   ]
  },
  {
   "cell_type": "code",
   "execution_count": null,
   "id": "03c85f1b",
   "metadata": {},
   "outputs": [],
   "source": []
  }
 ],
 "metadata": {
  "kernelspec": {
   "display_name": "Python 3",
   "language": "python",
   "name": "python3"
  },
  "language_info": {
   "codemirror_mode": {
    "name": "ipython",
    "version": 3
   },
   "file_extension": ".py",
   "mimetype": "text/x-python",
   "name": "python",
   "nbconvert_exporter": "python",
   "pygments_lexer": "ipython3",
   "version": "3.8.8"
  }
 },
 "nbformat": 4,
 "nbformat_minor": 5
}
