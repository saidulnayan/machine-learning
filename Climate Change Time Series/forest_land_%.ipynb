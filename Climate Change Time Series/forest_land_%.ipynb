{
 "cells": [
  {
   "cell_type": "code",
   "execution_count": 1,
   "id": "64a51f95",
   "metadata": {},
   "outputs": [
    {
     "name": "stderr",
     "output_type": "stream",
     "text": [
      "C:\\Users\\Lenovo\\anaconda3\\lib\\site-packages\\scipy\\__init__.py:138: UserWarning: A NumPy version >=1.16.5 and <1.23.0 is required for this version of SciPy (detected version 1.23.4)\n",
      "  warnings.warn(f\"A NumPy version >={np_minversion} and <{np_maxversion} is required for this version of \"\n"
     ]
    },
    {
     "data": {
      "image/png": "[encoded data removed]",
      "text/plain": [
       "<Figure size 432x288 with 1 Axes>"
      ]
     },
     "metadata": {
      "needs_background": "light"
     },
     "output_type": "display_data"
    }
   ],
   "source": [
    "\n",
    "import pandas\n",
    "import matplotlib.pyplot as plt\n",
    "from sklearn.linear_model import LinearRegression\n",
    "data = pandas.read_csv('forestland%.csv')\n",
    "plt.scatter(data['Year'], data['Land%'])\n",
    "plt.show()\n",
    "\n"
   ]
  },
  {
   "cell_type": "code",
   "execution_count": 2,
   "id": "53726f35",
   "metadata": {},
   "outputs": [
    {
     "data": {
      "text/plain": [
       "LinearRegression()"
      ]
     },
     "execution_count": 2,
     "metadata": {},
     "output_type": "execute_result"
    }
   ],
   "source": [
    "model = LinearRegression()\n",
    "model.fit(data[['Year']], data[['Land%']])"
   ]
  },
  {
   "cell_type": "code",
   "execution_count": 13,
   "id": "dd9e2abd",
   "metadata": {},
   "outputs": [
    {
     "data": {
      "text/plain": [
       "sklearn.linear_model._base.LinearRegression"
      ]
     },
     "execution_count": 13,
     "metadata": {},
     "output_type": "execute_result"
    }
   ],
   "source": [
    "type(model)"
   ]
  },
  {
   "cell_type": "code",
   "execution_count": 3,
   "id": "9d8b11c6",
   "metadata": {},
   "outputs": [
    {
     "data": {
      "text/plain": [
       "<seaborn.axisgrid.FacetGrid at 0x18ce8b7f220>"
      ]
     },
     "execution_count": 3,
     "metadata": {},
     "output_type": "execute_result"
    },
    {
     "data": {
      "image/png": "[encoded data removed]",
      "text/plain": [
       "<Figure size 360x360 with 1 Axes>"
      ]
     },
     "metadata": {
      "needs_background": "light"
     },
     "output_type": "display_data"
    }
   ],
   "source": [
    "# importing libraries\n",
    "import seaborn as sb\n",
    "  \n",
    "# use lmplot\n",
    "sb.lmplot(x = \"Year\",\n",
    "            y = \"Land%\", \n",
    "            ci = None,\n",
    "            data = data)"
   ]
  },
  {
   "cell_type": "code",
   "execution_count": 4,
   "id": "8953b856",
   "metadata": {},
   "outputs": [
    {
     "name": "stdout",
     "output_type": "stream",
     "text": [
      "[[30.37496947]]\n"
     ]
    }
   ],
   "source": [
    "print(model.predict([[2023]]))"
   ]
  },
  {
   "cell_type": "code",
   "execution_count": 5,
   "id": "5de27c4c",
   "metadata": {},
   "outputs": [
    {
     "name": "stdout",
     "output_type": "stream",
     "text": [
      "[[30.33760684]]\n"
     ]
    }
   ],
   "source": [
    "print(model.predict([[2024]]))"
   ]
  },
  {
   "cell_type": "code",
   "execution_count": 6,
   "id": "f5085a3c",
   "metadata": {},
   "outputs": [
    {
     "name": "stdout",
     "output_type": "stream",
     "text": [
      "[[30.3002442]]\n"
     ]
    }
   ],
   "source": [
    "print(model.predict([[2025]]))"
   ]
  },
  {
   "cell_type": "code",
   "execution_count": 7,
   "id": "fb05e8d2",
   "metadata": {},
   "outputs": [
    {
     "name": "stdout",
     "output_type": "stream",
     "text": [
      "[[30.26288156]]\n"
     ]
    }
   ],
   "source": [
    "print(model.predict([[2026]]))"
   ]
  },
  {
   "cell_type": "code",
   "execution_count": 8,
   "id": "adecc202",
   "metadata": {},
   "outputs": [
    {
     "name": "stdout",
     "output_type": "stream",
     "text": [
      "[[30.22551893]]\n"
     ]
    }
   ],
   "source": [
    "print(model.predict([[2027]]))"
   ]
  },
  {
   "cell_type": "code",
   "execution_count": 9,
   "id": "e5fbbb4d",
   "metadata": {},
   "outputs": [
    {
     "name": "stdout",
     "output_type": "stream",
     "text": [
      "[[30.18815629]]\n"
     ]
    }
   ],
   "source": [
    "print(model.predict([[2028]]))"
   ]
  },
  {
   "cell_type": "code",
   "execution_count": 10,
   "id": "91503274",
   "metadata": {},
   "outputs": [
    {
     "name": "stdout",
     "output_type": "stream",
     "text": [
      "[[30.15079365]]\n"
     ]
    }
   ],
   "source": [
    "print(model.predict([[2029]]))"
   ]
  },
  {
   "cell_type": "code",
   "execution_count": 11,
   "id": "f6af1f0a",
   "metadata": {},
   "outputs": [
    {
     "name": "stdout",
     "output_type": "stream",
     "text": [
      "[[30.11343101]]\n"
     ]
    }
   ],
   "source": [
    "print(model.predict([[2030]]))"
   ]
  },
  {
   "cell_type": "code",
   "execution_count": null,
   "id": "03c85f1b",
   "metadata": {},
   "outputs": [],
   "source": []
  }
 ],
 "metadata": {
  "kernelspec": {
   "display_name": "Python 3",
   "language": "python",
   "name": "python3"
  },
  "language_info": {
   "codemirror_mode": {
    "name": "ipython",
    "version": 3
   },
   "file_extension": ".py",
   "mimetype": "text/x-python",
   "name": "python",
   "nbconvert_exporter": "python",
   "pygments_lexer": "ipython3",
   "version": "3.8.8"
  }
 },
 "nbformat": 4,
 "nbformat_minor": 5
}
