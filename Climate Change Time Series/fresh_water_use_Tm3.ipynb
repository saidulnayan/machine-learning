{
 "cells": [
  {
   "cell_type": "code",
   "execution_count": 14,
   "id": "64a51f95",
   "metadata": {},
   "outputs": [
    {
     "data": {
      "image/png": "[encoded data removed]",
      "text/plain": [
       "<Figure size 432x288 with 1 Axes>"
      ]
     },
     "metadata": {
      "needs_background": "light"
     },
     "output_type": "display_data"
    }
   ],
   "source": [
    "\n",
    "import pandas\n",
    "import matplotlib.pyplot as plt\n",
    "from sklearn.linear_model import LinearRegression\n",
    "data = pandas.read_csv('fresh_water_use_tm3.csv')\n",
    "plt.scatter(data['Year'], data['water'])\n",
    "plt.show()\n",
    "\n"
   ]
  },
  {
   "cell_type": "code",
   "execution_count": 2,
   "id": "53726f35",
   "metadata": {},
   "outputs": [
    {
     "data": {
      "text/plain": [
       "LinearRegression()"
      ]
     },
     "execution_count": 2,
     "metadata": {},
     "output_type": "execute_result"
    }
   ],
   "source": [
    "model = LinearRegression()\n",
    "model.fit(data[['Year']], data[['water']])"
   ]
  },
  {
   "cell_type": "code",
   "execution_count": 3,
   "id": "9d8b11c6",
   "metadata": {},
   "outputs": [
    {
     "data": {
      "text/plain": [
       "<seaborn.axisgrid.FacetGrid at 0x22add51bbb0>"
      ]
     },
     "execution_count": 3,
     "metadata": {},
     "output_type": "execute_result"
    },
    {
     "data": {
      "image/png": "[encoded data removed]",
      "text/plain": [
       "<Figure size 360x360 with 1 Axes>"
      ]
     },
     "metadata": {
      "needs_background": "light"
     },
     "output_type": "display_data"
    }
   ],
   "source": [
    "# importing libraries\n",
    "import seaborn as sb\n",
    "  \n",
    "# use lmplot\n",
    "sb.lmplot(x = \"Year\",\n",
    "            y = \"water\", \n",
    "            ci = None,\n",
    "            data = data)"
   ]
  },
  {
   "cell_type": "code",
   "execution_count": 5,
   "id": "f0bf70e4",
   "metadata": {},
   "outputs": [
    {
     "name": "stdout",
     "output_type": "stream",
     "text": [
      "[[4.41046604]]\n"
     ]
    }
   ],
   "source": [
    "print(model.predict([[2020]]))"
   ]
  },
  {
   "cell_type": "code",
   "execution_count": 6,
   "id": "8953b856",
   "metadata": {},
   "outputs": [
    {
     "name": "stdout",
     "output_type": "stream",
     "text": [
      "[[4.52126598]]\n"
     ]
    }
   ],
   "source": [
    "print(model.predict([[2023]]))"
   ]
  },
  {
   "cell_type": "code",
   "execution_count": 7,
   "id": "5de27c4c",
   "metadata": {},
   "outputs": [
    {
     "name": "stdout",
     "output_type": "stream",
     "text": [
      "[[4.55819929]]\n"
     ]
    }
   ],
   "source": [
    "print(model.predict([[2024]]))"
   ]
  },
  {
   "cell_type": "code",
   "execution_count": 8,
   "id": "f5085a3c",
   "metadata": {},
   "outputs": [
    {
     "name": "stdout",
     "output_type": "stream",
     "text": [
      "[[4.5951326]]\n"
     ]
    }
   ],
   "source": [
    "print(model.predict([[2025]]))"
   ]
  },
  {
   "cell_type": "code",
   "execution_count": 9,
   "id": "fb05e8d2",
   "metadata": {},
   "outputs": [
    {
     "name": "stdout",
     "output_type": "stream",
     "text": [
      "[[4.63206592]]\n"
     ]
    }
   ],
   "source": [
    "print(model.predict([[2026]]))"
   ]
  },
  {
   "cell_type": "code",
   "execution_count": 10,
   "id": "adecc202",
   "metadata": {},
   "outputs": [
    {
     "name": "stdout",
     "output_type": "stream",
     "text": [
      "[[4.66899923]]\n"
     ]
    }
   ],
   "source": [
    "print(model.predict([[2027]]))"
   ]
  },
  {
   "cell_type": "code",
   "execution_count": 11,
   "id": "e5fbbb4d",
   "metadata": {},
   "outputs": [
    {
     "name": "stdout",
     "output_type": "stream",
     "text": [
      "[[4.70593254]]\n"
     ]
    }
   ],
   "source": [
    "print(model.predict([[2028]]))"
   ]
  },
  {
   "cell_type": "code",
   "execution_count": 12,
   "id": "91503274",
   "metadata": {},
   "outputs": [
    {
     "name": "stdout",
     "output_type": "stream",
     "text": [
      "[[4.74286585]]\n"
     ]
    }
   ],
   "source": [
    "print(model.predict([[2029]]))"
   ]
  },
  {
   "cell_type": "code",
   "execution_count": 13,
   "id": "f6af1f0a",
   "metadata": {},
   "outputs": [
    {
     "name": "stdout",
     "output_type": "stream",
     "text": [
      "[[4.77979917]]\n"
     ]
    }
   ],
   "source": [
    "print(model.predict([[2030]]))"
   ]
  },
  {
   "cell_type": "code",
   "execution_count": 15,
   "id": "86cad33b",
   "metadata": {},
   "outputs": [],
   "source": [
    "import numpy as np"
   ]
  },
  {
   "cell_type": "code",
   "execution_count": 16,
   "id": "3d752135",
   "metadata": {},
   "outputs": [],
   "source": [
    "X = data.iloc[:, 0:1].values\n",
    "y = data.iloc[:, 1].values"
   ]
  },
  {
   "cell_type": "code",
   "execution_count": 17,
   "id": "46c9ffce",
   "metadata": {},
   "outputs": [
    {
     "data": {
      "text/plain": [
       "PolynomialFeatures(degree=4)"
      ]
     },
     "execution_count": 17,
     "metadata": {},
     "output_type": "execute_result"
    }
   ],
   "source": [
    "# Fitting Polynomial Regression to the dataset\n",
    "from sklearn.preprocessing import PolynomialFeatures\n",
    "  \n",
    "poly = PolynomialFeatures(degree = 4)\n",
    "  \n",
    "poly.fit(data[['Year']], data[['water']])\n"
   ]
  },
  {
   "cell_type": "code",
   "execution_count": 19,
   "id": "aa94269b",
   "metadata": {},
   "outputs": [
    {
     "data": {
      "text/plain": [
       "LinearRegression()"
      ]
     },
     "execution_count": 19,
     "metadata": {},
     "output_type": "execute_result"
    }
   ],
   "source": [
    "# Fitting Polynomial Regression to the dataset\n",
    "from sklearn.preprocessing import PolynomialFeatures\n",
    "  \n",
    "poly = PolynomialFeatures(degree = 4)\n",
    "X_poly = poly.fit_transform(X)\n",
    "  \n",
    "poly.fit(X_poly, y)\n",
    "lin2 = LinearRegression()\n",
    "lin2.fit(X_poly, y)"
   ]
  },
  {
   "cell_type": "code",
   "execution_count": 20,
   "id": "80c7bafe",
   "metadata": {
    "scrolled": true
   },
   "outputs": [
    {
     "data": {
      "image/png": "[encoded data removed]",
      "text/plain": [
       "<Figure size 432x288 with 1 Axes>"
      ]
     },
     "metadata": {
      "needs_background": "light"
     },
     "output_type": "display_data"
    }
   ],
   "source": [
    "# Visualising the Polynomial Regression results\n",
    "plt.scatter(X, y, color = 'blue')\n",
    "  \n",
    "plt.plot(X, lin2.predict(poly.fit_transform(X)), color = 'red')\n",
    "plt.title('Polynomial Regression')\n",
    "plt.xlabel('Year')\n",
    "plt.ylabel('water')\n",
    "  \n",
    "plt.show()"
   ]
  },
  {
   "cell_type": "code",
   "execution_count": 21,
   "id": "2c3b83a9",
   "metadata": {},
   "outputs": [
    {
     "data": {
      "text/plain": [
       "array([4.38715663])"
      ]
     },
     "execution_count": 21,
     "metadata": {},
     "output_type": "execute_result"
    }
   ],
   "source": [
    "pred2 = 2020\n",
    "pred2array = np.array([[pred2]])\n",
    "lin2.predict(poly.fit_transform(pred2array))"
   ]
  },
  {
   "cell_type": "code",
   "execution_count": 22,
   "id": "223b9d35",
   "metadata": {},
   "outputs": [
    {
     "data": {
      "text/plain": [
       "array([4.48351538])"
      ]
     },
     "execution_count": 22,
     "metadata": {},
     "output_type": "execute_result"
    }
   ],
   "source": [
    "pred2 = 2022\n",
    "pred2array = np.array([[pred2]])\n",
    "lin2.predict(poly.fit_transform(pred2array))"
   ]
  },
  {
   "cell_type": "code",
   "execution_count": 23,
   "id": "0489717d",
   "metadata": {},
   "outputs": [
    {
     "data": {
      "text/plain": [
       "array([4.53429469])"
      ]
     },
     "execution_count": 23,
     "metadata": {},
     "output_type": "execute_result"
    }
   ],
   "source": [
    "pred2 = 2023\n",
    "pred2array = np.array([[pred2]])\n",
    "lin2.predict(poly.fit_transform(pred2array))"
   ]
  },
  {
   "cell_type": "code",
   "execution_count": 24,
   "id": "65c90c24",
   "metadata": {},
   "outputs": [
    {
     "data": {
      "text/plain": [
       "array([4.58691418])"
      ]
     },
     "execution_count": 24,
     "metadata": {},
     "output_type": "execute_result"
    }
   ],
   "source": [
    "pred2 = 2024\n",
    "pred2array = np.array([[pred2]])\n",
    "lin2.predict(poly.fit_transform(pred2array))"
   ]
  },
  {
   "cell_type": "code",
   "execution_count": 25,
   "id": "4c2816ba",
   "metadata": {},
   "outputs": [
    {
     "data": {
      "text/plain": [
       "array([4.64145415])"
      ]
     },
     "execution_count": 25,
     "metadata": {},
     "output_type": "execute_result"
    }
   ],
   "source": [
    "pred2 = 2025\n",
    "pred2array = np.array([[pred2]])\n",
    "lin2.predict(poly.fit_transform(pred2array))"
   ]
  },
  {
   "cell_type": "code",
   "execution_count": 26,
   "id": "47a9c1a9",
   "metadata": {},
   "outputs": [
    {
     "data": {
      "text/plain": [
       "array([4.69799501])"
      ]
     },
     "execution_count": 26,
     "metadata": {},
     "output_type": "execute_result"
    }
   ],
   "source": [
    "pred2 = 2026\n",
    "pred2array = np.array([[pred2]])\n",
    "lin2.predict(poly.fit_transform(pred2array))"
   ]
  },
  {
   "cell_type": "code",
   "execution_count": 27,
   "id": "07ab68a1",
   "metadata": {},
   "outputs": [
    {
     "data": {
      "text/plain": [
       "array([4.75661729])"
      ]
     },
     "execution_count": 27,
     "metadata": {},
     "output_type": "execute_result"
    }
   ],
   "source": [
    "pred2 = 2027\n",
    "pred2array = np.array([[pred2]])\n",
    "lin2.predict(poly.fit_transform(pred2array))"
   ]
  },
  {
   "cell_type": "code",
   "execution_count": 28,
   "id": "bb53af46",
   "metadata": {},
   "outputs": [
    {
     "data": {
      "text/plain": [
       "array([4.81740166])"
      ]
     },
     "execution_count": 28,
     "metadata": {},
     "output_type": "execute_result"
    }
   ],
   "source": [
    "pred2 = 2028\n",
    "pred2array = np.array([[pred2]])\n",
    "lin2.predict(poly.fit_transform(pred2array))"
   ]
  },
  {
   "cell_type": "code",
   "execution_count": 29,
   "id": "17373e03",
   "metadata": {},
   "outputs": [
    {
     "data": {
      "text/plain": [
       "array([4.88042886])"
      ]
     },
     "execution_count": 29,
     "metadata": {},
     "output_type": "execute_result"
    }
   ],
   "source": [
    "pred2 = 2029\n",
    "pred2array = np.array([[pred2]])\n",
    "lin2.predict(poly.fit_transform(pred2array))"
   ]
  },
  {
   "cell_type": "code",
   "execution_count": 30,
   "id": "5c69d4be",
   "metadata": {},
   "outputs": [
    {
     "data": {
      "text/plain": [
       "array([4.9457798])"
      ]
     },
     "execution_count": 30,
     "metadata": {},
     "output_type": "execute_result"
    }
   ],
   "source": [
    "pred2 = 2030\n",
    "pred2array = np.array([[pred2]])\n",
    "lin2.predict(poly.fit_transform(pred2array))"
   ]
  },
  {
   "cell_type": "code",
   "execution_count": null,
   "id": "03c85f1b",
   "metadata": {},
   "outputs": [],
   "source": []
  }
 ],
 "metadata": {
  "kernelspec": {
   "display_name": "Python 3",
   "language": "python",
   "name": "python3"
  },
  "language_info": {
   "codemirror_mode": {
    "name": "ipython",
    "version": 3
   },
   "file_extension": ".py",
   "mimetype": "text/x-python",
   "name": "python",
   "nbconvert_exporter": "python",
   "pygments_lexer": "ipython3",
   "version": "3.8.8"
  }
 },
 "nbformat": 4,
 "nbformat_minor": 5
}
