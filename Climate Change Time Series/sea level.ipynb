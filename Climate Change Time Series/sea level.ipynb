{
 "cells": [
  {
   "cell_type": "code",
   "execution_count": 1,
   "id": "936e02fc",
   "metadata": {},
   "outputs": [
    {
     "name": "stderr",
     "output_type": "stream",
     "text": [
      "C:\\Users\\Lenovo\\anaconda3\\lib\\site-packages\\scipy\\__init__.py:138: UserWarning: A NumPy version >=1.16.5 and <1.23.0 is required for this version of SciPy (detected version 1.23.4)\n",
      "  warnings.warn(f\"A NumPy version >={np_minversion} and <{np_maxversion} is required for this version of \"\n"
     ]
    },
    {
     "data": {
      "image/png": "[encoded data removed]",
      "text/plain": [
       "<Figure size 432x288 with 1 Axes>"
      ]
     },
     "metadata": {
      "needs_background": "light"
     },
     "output_type": "display_data"
    }
   ],
   "source": [
    "import pandas\n",
    "import matplotlib.pyplot as plt\n",
    "from sklearn.linear_model import LinearRegression\n",
    "data = pandas.read_csv('sea_level.csv')\n",
    "plt.scatter(data['Time'], data['GMSL'])\n",
    "plt.show()"
   ]
  },
  {
   "cell_type": "code",
   "execution_count": 2,
   "id": "e308db0a",
   "metadata": {},
   "outputs": [
    {
     "data": {
      "text/plain": [
       "LinearRegression()"
      ]
     },
     "execution_count": 2,
     "metadata": {},
     "output_type": "execute_result"
    }
   ],
   "source": [
    "model = LinearRegression()\n",
    "model.fit(data[['Time']], data[['GMSL']])"
   ]
  },
  {
   "cell_type": "code",
   "execution_count": 7,
   "id": "9cd286c4",
   "metadata": {},
   "outputs": [
    {
     "data": {
      "text/plain": [
       "<seaborn.axisgrid.FacetGrid at 0x229cb44ac70>"
      ]
     },
     "execution_count": 7,
     "metadata": {},
     "output_type": "execute_result"
    },
    {
     "data": {
      "image/png": "[encoded data removed]",
      "text/plain": [
       "<Figure size 360x360 with 1 Axes>"
      ]
     },
     "metadata": {
      "needs_background": "light"
     },
     "output_type": "display_data"
    }
   ],
   "source": [
    "# importing libraries\n",
    "import seaborn as sb\n",
    "  \n",
    "# use lmplot\n",
    "sb.lmplot(x = \"Time\",\n",
    "            y = \"GMSL\", \n",
    "            ci = None,\n",
    "            data = data)"
   ]
  },
  {
   "cell_type": "code",
   "execution_count": 4,
   "id": "5c69d4be",
   "metadata": {},
   "outputs": [
    {
     "name": "stdout",
     "output_type": "stream",
     "text": [
      "[[98.26916996]]\n"
     ]
    }
   ],
   "source": [
    "print(model.predict([[2023]]))"
   ]
  },
  {
   "cell_type": "code",
   "execution_count": 5,
   "id": "194ef2a8",
   "metadata": {},
   "outputs": [
    {
     "name": "stdout",
     "output_type": "stream",
     "text": [
      "[[101.47667984]]\n"
     ]
    }
   ],
   "source": [
    "print(model.predict([[2024]]))"
   ]
  },
  {
   "cell_type": "code",
   "execution_count": 6,
   "id": "ee38b83f",
   "metadata": {},
   "outputs": [
    {
     "name": "stdout",
     "output_type": "stream",
     "text": [
      "[[104.68418972]]\n"
     ]
    }
   ],
   "source": [
    "print(model.predict([[2025]]))"
   ]
  },
  {
   "cell_type": "code",
   "execution_count": 7,
   "id": "6c4051c6",
   "metadata": {},
   "outputs": [
    {
     "name": "stdout",
     "output_type": "stream",
     "text": [
      "[[107.8916996]]\n"
     ]
    }
   ],
   "source": [
    "print(model.predict([[2026]]))"
   ]
  },
  {
   "cell_type": "code",
   "execution_count": 8,
   "id": "7f75b7a9",
   "metadata": {},
   "outputs": [
    {
     "name": "stdout",
     "output_type": "stream",
     "text": [
      "[[111.09920949]]\n"
     ]
    }
   ],
   "source": [
    "print(model.predict([[2027]]))"
   ]
  },
  {
   "cell_type": "code",
   "execution_count": 9,
   "id": "669f4d40",
   "metadata": {},
   "outputs": [
    {
     "name": "stdout",
     "output_type": "stream",
     "text": [
      "[[114.30671937]]\n"
     ]
    }
   ],
   "source": [
    "print(model.predict([[2028]]))"
   ]
  },
  {
   "cell_type": "code",
   "execution_count": 10,
   "id": "f0848a99",
   "metadata": {},
   "outputs": [
    {
     "name": "stdout",
     "output_type": "stream",
     "text": [
      "[[117.51422925]]\n"
     ]
    }
   ],
   "source": [
    "print(model.predict([[2029]]))"
   ]
  },
  {
   "cell_type": "code",
   "execution_count": 11,
   "id": "4c9201bb",
   "metadata": {},
   "outputs": [
    {
     "name": "stdout",
     "output_type": "stream",
     "text": [
      "[[120.72173913]]\n"
     ]
    }
   ],
   "source": [
    "print(model.predict([[2030]]))"
   ]
  },
  {
   "cell_type": "code",
   "execution_count": null,
   "id": "8ffbb024",
   "metadata": {},
   "outputs": [],
   "source": []
  }
 ],
 "metadata": {
  "kernelspec": {
   "display_name": "Python 3",
   "language": "python",
   "name": "python3"
  },
  "language_info": {
   "codemirror_mode": {
    "name": "ipython",
    "version": 3
   },
   "file_extension": ".py",
   "mimetype": "text/x-python",
   "name": "python",
   "nbconvert_exporter": "python",
   "pygments_lexer": "ipython3",
   "version": "3.8.8"
  }
 },
 "nbformat": 4,
 "nbformat_minor": 5
}
